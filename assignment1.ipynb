{
 "cells": [
  {
   "cell_type": "markdown",
   "metadata": {},
   "source": [
    "*****************************************************************\n",
    "#  The Social Web \n",
    "- Instructors: Davide Ceolin.\n",
    "- TAs: Jacco van Ossenbruggen, Elena Beretta, Mirthe Dankloff.\n",
    "- Exercises for Hands-on session 1- TAs: Jacco van Ossenbruggen, Elena Beretta, Mirthe Dankloff.\n",
    "*****************************************************************"
   ]
  },
  {
   "cell_type": "markdown",
   "metadata": {},
   "source": [
    "Prerequisites:\n",
    "- Python 3.8\n",
    "- Python packages: twitter, prettytable, matplotlib\n",
    "\n",
    "First you need to know how to retrieve some social web data. Exercises 1 and 2 will show you how to retrieve trends and search results from Twitter. \n",
    "\n",
    "But let's check first if we're running a sufficiently new version of Python:"
   ]
  },
  {
   "cell_type": "code",
   "execution_count": 1,
   "metadata": {},
   "outputs": [
    {
     "name": "stdout",
     "output_type": "stream",
     "text": [
      "This jupyter notebook is running on Python 3.10.1\n"
     ]
    }
   ],
   "source": [
    "import platform\n",
    "import sys\n",
    "print(\"This jupyter notebook is running on Python \" + platform.python_version())\n",
    "# It's good practice to assert packages requirements at the beginning of a script:\n",
    "assert sys.version_info >= (3, 6)"
   ]
  },
  {
   "cell_type": "markdown",
   "metadata": {},
   "source": [
    "Let's install now the required packages for this hands on session:"
   ]
  },
  {
   "cell_type": "code",
   "execution_count": 2,
   "metadata": {},
   "outputs": [
    {
     "name": "stdout",
     "output_type": "stream",
     "text": [
      "Requirement already satisfied: python-twitter-v2 in c:\\users\\hugoz\\appdata\\local\\programs\\python\\python310\\lib\\site-packages (0.7.9)\n",
      "Requirement already satisfied: PrettyTable in c:\\users\\hugoz\\appdata\\local\\programs\\python\\python310\\lib\\site-packages (3.5.0)\n",
      "Requirement already satisfied: matplotlib in c:\\users\\hugoz\\appdata\\local\\programs\\python\\python310\\lib\\site-packages (3.6.0)\n",
      "Requirement already satisfied: geocoder in c:\\users\\hugoz\\appdata\\local\\programs\\python\\python310\\lib\\site-packages (1.38.1)\n",
      "Requirement already satisfied: tweepy in c:\\users\\hugoz\\appdata\\local\\programs\\python\\python310\\lib\\site-packages (4.12.1)\n",
      "Requirement already satisfied: Authlib<0.16.0,>=0.15.4 in c:\\users\\hugoz\\appdata\\local\\programs\\python\\python310\\lib\\site-packages (from python-twitter-v2) (0.15.6)\n",
      "Requirement already satisfied: requests<3.0,>=2.24 in c:\\users\\hugoz\\appdata\\local\\programs\\python\\python310\\lib\\site-packages (from python-twitter-v2) (2.28.1)\n",
      "Requirement already satisfied: dataclasses-json<0.6.0,>=0.5.2 in c:\\users\\hugoz\\appdata\\local\\programs\\python\\python310\\lib\\site-packages (from python-twitter-v2) (0.5.7)\n",
      "Requirement already satisfied: wcwidth in c:\\users\\hugoz\\appdata\\local\\programs\\python\\python310\\lib\\site-packages (from PrettyTable) (0.2.5)\n",
      "Requirement already satisfied: contourpy>=1.0.1 in c:\\users\\hugoz\\appdata\\local\\programs\\python\\python310\\lib\\site-packages (from matplotlib) (1.0.5)\n",
      "Requirement already satisfied: packaging>=20.0 in c:\\users\\hugoz\\appdata\\local\\programs\\python\\python310\\lib\\site-packages (from matplotlib) (21.3)\n",
      "Requirement already satisfied: pillow>=6.2.0 in c:\\users\\hugoz\\appdata\\local\\programs\\python\\python310\\lib\\site-packages (from matplotlib) (9.2.0)\n",
      "Requirement already satisfied: python-dateutil>=2.7 in c:\\users\\hugoz\\appdata\\local\\programs\\python\\python310\\lib\\site-packages (from matplotlib) (2.8.2)\n",
      "Requirement already satisfied: numpy>=1.19 in c:\\users\\hugoz\\appdata\\local\\programs\\python\\python310\\lib\\site-packages (from matplotlib) (1.22.1)\n",
      "Requirement already satisfied: cycler>=0.10 in c:\\users\\hugoz\\appdata\\local\\programs\\python\\python310\\lib\\site-packages (from matplotlib) (0.11.0)\n",
      "Requirement already satisfied: kiwisolver>=1.0.1 in c:\\users\\hugoz\\appdata\\local\\programs\\python\\python310\\lib\\site-packages (from matplotlib) (1.4.4)\n",
      "Requirement already satisfied: fonttools>=4.22.0 in c:\\users\\hugoz\\appdata\\local\\programs\\python\\python310\\lib\\site-packages (from matplotlib) (4.37.3)\n",
      "Requirement already satisfied: pyparsing>=2.2.1 in c:\\users\\hugoz\\appdata\\local\\programs\\python\\python310\\lib\\site-packages (from matplotlib) (3.0.9)\n",
      "Requirement already satisfied: six in c:\\users\\hugoz\\appdata\\local\\programs\\python\\python310\\lib\\site-packages (from geocoder) (1.16.0)\n",
      "Requirement already satisfied: click in c:\\users\\hugoz\\appdata\\local\\programs\\python\\python310\\lib\\site-packages (from geocoder) (8.0.3)\n",
      "Requirement already satisfied: ratelim in c:\\users\\hugoz\\appdata\\local\\programs\\python\\python310\\lib\\site-packages (from geocoder) (0.1.6)\n",
      "Requirement already satisfied: future in c:\\users\\hugoz\\appdata\\local\\programs\\python\\python310\\lib\\site-packages (from geocoder) (0.18.2)\n",
      "Requirement already satisfied: requests-oauthlib<2,>=1.2.0 in c:\\users\\hugoz\\appdata\\local\\programs\\python\\python310\\lib\\site-packages (from tweepy) (1.3.1)\n",
      "Requirement already satisfied: oauthlib<4,>=3.2.0 in c:\\users\\hugoz\\appdata\\local\\programs\\python\\python310\\lib\\site-packages (from tweepy) (3.2.2)\n",
      "Requirement already satisfied: cryptography in c:\\users\\hugoz\\appdata\\local\\programs\\python\\python310\\lib\\site-packages (from Authlib<0.16.0,>=0.15.4->python-twitter-v2) (38.0.3)\n",
      "Requirement already satisfied: typing-inspect>=0.4.0 in c:\\users\\hugoz\\appdata\\local\\programs\\python\\python310\\lib\\site-packages (from dataclasses-json<0.6.0,>=0.5.2->python-twitter-v2) (0.8.0)\n",
      "Requirement already satisfied: marshmallow-enum<2.0.0,>=1.5.1 in c:\\users\\hugoz\\appdata\\local\\programs\\python\\python310\\lib\\site-packages (from dataclasses-json<0.6.0,>=0.5.2->python-twitter-v2) (1.5.1)\n",
      "Requirement already satisfied: marshmallow<4.0.0,>=3.3.0 in c:\\users\\hugoz\\appdata\\local\\programs\\python\\python310\\lib\\site-packages (from dataclasses-json<0.6.0,>=0.5.2->python-twitter-v2) (3.19.0)\n",
      "Requirement already satisfied: charset-normalizer<3,>=2 in c:\\users\\hugoz\\appdata\\local\\programs\\python\\python310\\lib\\site-packages (from requests<3.0,>=2.24->python-twitter-v2) (2.1.0)\n",
      "Requirement already satisfied: certifi>=2017.4.17 in c:\\users\\hugoz\\appdata\\local\\programs\\python\\python310\\lib\\site-packages (from requests<3.0,>=2.24->python-twitter-v2) (2022.9.24)\n",
      "Requirement already satisfied: idna<4,>=2.5 in c:\\users\\hugoz\\appdata\\local\\programs\\python\\python310\\lib\\site-packages (from requests<3.0,>=2.24->python-twitter-v2) (3.3)\n",
      "Requirement already satisfied: urllib3<1.27,>=1.21.1 in c:\\users\\hugoz\\appdata\\local\\programs\\python\\python310\\lib\\site-packages (from requests<3.0,>=2.24->python-twitter-v2) (1.26.12)\n",
      "Requirement already satisfied: colorama in c:\\users\\hugoz\\appdata\\local\\programs\\python\\python310\\lib\\site-packages (from click->geocoder) (0.4.4)\n",
      "Requirement already satisfied: decorator in c:\\users\\hugoz\\appdata\\local\\programs\\python\\python310\\lib\\site-packages (from ratelim->geocoder) (5.1.1)\n",
      "Requirement already satisfied: mypy-extensions>=0.3.0 in c:\\users\\hugoz\\appdata\\local\\programs\\python\\python310\\lib\\site-packages (from typing-inspect>=0.4.0->dataclasses-json<0.6.0,>=0.5.2->python-twitter-v2) (0.4.3)\n",
      "Requirement already satisfied: typing-extensions>=3.7.4 in c:\\users\\hugoz\\appdata\\local\\programs\\python\\python310\\lib\\site-packages (from typing-inspect>=0.4.0->dataclasses-json<0.6.0,>=0.5.2->python-twitter-v2) (4.0.1)\n",
      "Requirement already satisfied: cffi>=1.12 in c:\\users\\hugoz\\appdata\\local\\programs\\python\\python310\\lib\\site-packages (from cryptography->Authlib<0.16.0,>=0.15.4->python-twitter-v2) (1.15.1)\n",
      "Requirement already satisfied: pycparser in c:\\users\\hugoz\\appdata\\local\\programs\\python\\python310\\lib\\site-packages (from cffi>=1.12->cryptography->Authlib<0.16.0,>=0.15.4->python-twitter-v2) (2.21)\n"
     ]
    }
   ],
   "source": [
    "# If you're using a virtualenv, make sure its activated before running \n",
    "# this cell!\n",
    "!pip install python-twitter-v2 PrettyTable matplotlib geocoder tweepy"
   ]
  },
  {
   "cell_type": "markdown",
   "metadata": {},
   "source": [
    "## Part 1: Authorizing an application to access Twitter account data:\n",
    "\n",
    "1. Make sure to add your mobile phone number to your private twitter profile.\n",
    "2. Go to https://developer.twitter.com/en/portal/dashboard and click on \"create an app\". Twitter will prompt you to create a *developer account*.\n",
    "3. You'll receive an *account confirmation* email with a link. Follow it and create an app. \n",
    "4. Once the app is created, you'll see a \"Keys and Token\" item on the top right tab of the webpage. These values will be needed to fill in the next cell.\n",
    "5. Please delete all your keys before submission.\n",
    "\n",
    "NOTE: This notebook is based on the API functionalities \"Essential\" license. Check the \"Academic Research\" license (right menu, \"Twitter API v2\", \"Academic Research\") if you need a broader set of functionalities.\n",
    "\n",
    "In this notebook, you can use the official Twitter V2 API:"
   ]
  },
  {
   "cell_type": "code",
   "execution_count": 3,
   "metadata": {},
   "outputs": [],
   "source": [
    "from pytwitter import Api \n",
    "\n",
    "TWITTER_API_KEY = \"gi4baDHkgwOs5tmO6UMLZtydf\"\n",
    "TWITTER_API_SECRET = \"QFjLZcStPJHAcWuvg8t55vlWe2yQHXPKXmJhIR6WMVuYNhroa9\"\n",
    "# to get the oauth credential you need to click on the 'Generate access token' button:\n",
    "TWITTER_ACCESS_TOKEN = \"1297797286148399104-wXG2uobpcdUCaS0AAiFctwrRgQ297j\"\n",
    "TWITTER_ACCESS_SECRET = \"KqwvMay7KXUkb6WfmscYNBMfoZyHzJds5aDIRgEsd59gM\"\n",
    "\n",
    "api = Api(\n",
    "        consumer_key=TWITTER_API_KEY,\n",
    "        consumer_secret=TWITTER_API_SECRET,\n",
    "        access_token=TWITTER_ACCESS_TOKEN,\n",
    "        access_secret=TWITTER_ACCESS_SECRET\n",
    "    )\n"
   ]
  },
  {
   "cell_type": "markdown",
   "metadata": {},
   "source": [
    "or the Tweepy API:"
   ]
  },
  {
   "cell_type": "code",
   "execution_count": 4,
   "metadata": {},
   "outputs": [],
   "source": [
    "import tweepy\n",
    "\n",
    "client = tweepy.Client(bearer_token=\"AAAAAAAAAAAAAAAAAAAAADIpjAEAAAAAzM39DWmUBBGvqvIhwyJOcd7aeLs%3DE39Te6iGGfCgd63FtEZx6Szto6z2gjUFrTONDHaOj6psf3lLV7\")\n",
    "\n",
    "auth = tweepy.OAuthHandler(TWITTER_API_KEY, TWITTER_API_SECRET)\n",
    "auth.set_access_token(TWITTER_ACCESS_TOKEN, TWITTER_ACCESS_SECRET)\n",
    "\n",
    "twapi = tweepy.API(auth)"
   ]
  },
  {
   "cell_type": "markdown",
   "metadata": {},
   "source": [
    "### 1.1: Retrieving twitter search trends [Only with Academic Research License]"
   ]
  },
  {
   "cell_type": "code",
   "execution_count": 5,
   "metadata": {},
   "outputs": [
    {
     "ename": "Forbidden",
     "evalue": "403 Forbidden\n453 - You currently have Essential access which includes access to Twitter API v2 endpoints only. If you need access to this endpoint, you’ll need to apply for Elevated access via the Developer Portal. You can learn more here: https://developer.twitter.com/en/docs/twitter-api/getting-started/about-twitter-api#v2-access-leve",
     "output_type": "error",
     "traceback": [
      "\u001b[1;31m---------------------------------------------------------------------------\u001b[0m",
      "\u001b[1;31mForbidden\u001b[0m                                 Traceback (most recent call last)",
      "\u001b[1;32mc:\\Users\\hugoz\\Documents\\GitHub\\the-social-web\\assignment1.ipynb Cell 11\u001b[0m in \u001b[0;36m<cell line: 6>\u001b[1;34m()\u001b[0m\n\u001b[0;32m      <a href='vscode-notebook-cell:/c%3A/Users/hugoz/Documents/GitHub/the-social-web/assignment1.ipynb#X13sZmlsZQ%3D%3D?line=2'>3</a>\u001b[0m loc \u001b[39m=\u001b[39m \u001b[39m\"\u001b[39m\u001b[39mAmsterdam\u001b[39m\u001b[39m\"\u001b[39m\n\u001b[0;32m      <a href='vscode-notebook-cell:/c%3A/Users/hugoz/Documents/GitHub/the-social-web/assignment1.ipynb#X13sZmlsZQ%3D%3D?line=4'>5</a>\u001b[0m g \u001b[39m=\u001b[39m geocoder\u001b[39m.\u001b[39mosm(loc)\n\u001b[1;32m----> <a href='vscode-notebook-cell:/c%3A/Users/hugoz/Documents/GitHub/the-social-web/assignment1.ipynb#X13sZmlsZQ%3D%3D?line=5'>6</a>\u001b[0m closest_loc \u001b[39m=\u001b[39m twapi\u001b[39m.\u001b[39;49mclosest_trends(g\u001b[39m.\u001b[39;49mlat, g\u001b[39m.\u001b[39;49mlng)\n\u001b[0;32m      <a href='vscode-notebook-cell:/c%3A/Users/hugoz/Documents/GitHub/the-social-web/assignment1.ipynb#X13sZmlsZQ%3D%3D?line=6'>7</a>\u001b[0m trends \u001b[39m=\u001b[39m twapi\u001b[39m.\u001b[39mget_place_trends(closest_loc[\u001b[39m0\u001b[39m][\u001b[39m\"\u001b[39m\u001b[39mwoeid\u001b[39m\u001b[39m\"\u001b[39m])\n\u001b[0;32m      <a href='vscode-notebook-cell:/c%3A/Users/hugoz/Documents/GitHub/the-social-web/assignment1.ipynb#X13sZmlsZQ%3D%3D?line=8'>9</a>\u001b[0m \u001b[39mprint\u001b[39m(trends[\u001b[39m0\u001b[39m][\u001b[39m\"\u001b[39m\u001b[39mtrends\u001b[39m\u001b[39m\"\u001b[39m])\n",
      "File \u001b[1;32mc:\\Users\\hugoz\\AppData\\Local\\Programs\\Python\\Python310\\lib\\site-packages\\tweepy\\api.py:46\u001b[0m, in \u001b[0;36mpayload.<locals>.decorator.<locals>.wrapper\u001b[1;34m(*args, **kwargs)\u001b[0m\n\u001b[0;32m     44\u001b[0m kwargs[\u001b[39m'\u001b[39m\u001b[39mpayload_list\u001b[39m\u001b[39m'\u001b[39m] \u001b[39m=\u001b[39m payload_list\n\u001b[0;32m     45\u001b[0m kwargs[\u001b[39m'\u001b[39m\u001b[39mpayload_type\u001b[39m\u001b[39m'\u001b[39m] \u001b[39m=\u001b[39m payload_type\n\u001b[1;32m---> 46\u001b[0m \u001b[39mreturn\u001b[39;00m method(\u001b[39m*\u001b[39margs, \u001b[39m*\u001b[39m\u001b[39m*\u001b[39mkwargs)\n",
      "File \u001b[1;32mc:\\Users\\hugoz\\AppData\\Local\\Programs\\Python\\Python310\\lib\\site-packages\\tweepy\\api.py:3866\u001b[0m, in \u001b[0;36mAPI.closest_trends\u001b[1;34m(self, lat, long, **kwargs)\u001b[0m\n\u001b[0;32m   3828\u001b[0m \u001b[39m@payload\u001b[39m(\u001b[39m'\u001b[39m\u001b[39mjson\u001b[39m\u001b[39m'\u001b[39m)\n\u001b[0;32m   3829\u001b[0m \u001b[39mdef\u001b[39;00m \u001b[39mclosest_trends\u001b[39m(\u001b[39mself\u001b[39m, lat, long, \u001b[39m*\u001b[39m\u001b[39m*\u001b[39mkwargs):\n\u001b[0;32m   3830\u001b[0m     \u001b[39m\"\"\"closest_trends(lat, long)\u001b[39;00m\n\u001b[0;32m   3831\u001b[0m \n\u001b[0;32m   3832\u001b[0m \u001b[39m    Returns the locations that Twitter has trending topic information for,\u001b[39;00m\n\u001b[1;32m   (...)\u001b[0m\n\u001b[0;32m   3864\u001b[0m \u001b[39m    https://developer.twitter.com/en/docs/twitter-api/v1/trends/locations-with-trending-topics/api-reference/get-trends-closest\u001b[39;00m\n\u001b[0;32m   3865\u001b[0m \u001b[39m    \"\"\"\u001b[39;00m\n\u001b[1;32m-> 3866\u001b[0m     \u001b[39mreturn\u001b[39;00m \u001b[39mself\u001b[39m\u001b[39m.\u001b[39mrequest(\n\u001b[0;32m   3867\u001b[0m         \u001b[39m'\u001b[39m\u001b[39mGET\u001b[39m\u001b[39m'\u001b[39m, \u001b[39m'\u001b[39m\u001b[39mtrends/closest\u001b[39m\u001b[39m'\u001b[39m, endpoint_parameters\u001b[39m=\u001b[39m(\n\u001b[0;32m   3868\u001b[0m             \u001b[39m'\u001b[39m\u001b[39mlat\u001b[39m\u001b[39m'\u001b[39m, \u001b[39m'\u001b[39m\u001b[39mlong\u001b[39m\u001b[39m'\u001b[39m\n\u001b[0;32m   3869\u001b[0m         ), lat\u001b[39m=\u001b[39mlat, long\u001b[39m=\u001b[39mlong, \u001b[39m*\u001b[39m\u001b[39m*\u001b[39mkwargs\n\u001b[0;32m   3870\u001b[0m     )\n",
      "File \u001b[1;32mc:\\Users\\hugoz\\AppData\\Local\\Programs\\Python\\Python310\\lib\\site-packages\\tweepy\\api.py:265\u001b[0m, in \u001b[0;36mAPI.request\u001b[1;34m(self, method, endpoint, endpoint_parameters, params, headers, json_payload, parser, payload_list, payload_type, post_data, files, require_auth, return_cursors, upload_api, use_cache, **kwargs)\u001b[0m\n\u001b[0;32m    263\u001b[0m     \u001b[39mraise\u001b[39;00m Unauthorized(resp)\n\u001b[0;32m    264\u001b[0m \u001b[39mif\u001b[39;00m resp\u001b[39m.\u001b[39mstatus_code \u001b[39m==\u001b[39m \u001b[39m403\u001b[39m:\n\u001b[1;32m--> 265\u001b[0m     \u001b[39mraise\u001b[39;00m Forbidden(resp)\n\u001b[0;32m    266\u001b[0m \u001b[39mif\u001b[39;00m resp\u001b[39m.\u001b[39mstatus_code \u001b[39m==\u001b[39m \u001b[39m404\u001b[39m:\n\u001b[0;32m    267\u001b[0m     \u001b[39mraise\u001b[39;00m NotFound(resp)\n",
      "\u001b[1;31mForbidden\u001b[0m: 403 Forbidden\n453 - You currently have Essential access which includes access to Twitter API v2 endpoints only. If you need access to this endpoint, you’ll need to apply for Elevated access via the Developer Portal. You can learn more here: https://developer.twitter.com/en/docs/twitter-api/getting-started/about-twitter-api#v2-access-leve"
     ]
    }
   ],
   "source": [
    "import geocoder\n",
    "\n",
    "# loc = \"Amsterdam\"\n",
    "\n",
    "# g = geocoder.osm(loc)\n",
    "# closest_loc = twapi.closest_trends(g.lat, g.lng)\n",
    "# trends = twapi.get_place_trends(closest_loc[0][\"woeid\"])\n",
    "\n",
    "# print(trends[0][\"trends\"])\n"
   ]
  },
  {
   "cell_type": "markdown",
   "metadata": {},
   "source": [
    "### Task 1 [Only with Academic Research License]\n",
    "Twitter uses WOEIDs. Find out how WORLD_WOE_IDs were originally defined by Yahoo! and try to use others in a query. What kind of differences do you find between the worldwide trends and the local trends? \n"
   ]
  },
  {
   "cell_type": "code",
   "execution_count": null,
   "metadata": {},
   "outputs": [],
   "source": [
    "# Your code here\n",
    "# I cannot apply for an Academic Research License via my twitter developer portal, in consequence, without this license \n",
    "# the access to closest_trends/get_place_trends is not possible.\n",
    "# Output ERROR: \"You currently have Essential access which includes access to Twitter API v2 endpoints only\""
   ]
  },
  {
   "cell_type": "markdown",
   "metadata": {},
   "source": [
    "### 1.2: Retrieving recent Tweets [Any license]"
   ]
  },
  {
   "cell_type": "code",
   "execution_count": 6,
   "metadata": {},
   "outputs": [
    {
     "name": "stdout",
     "output_type": "stream",
     "text": [
      "Response(data=[<Tweet id=1592135153194778626 text='RT @tv3_ghana: Guess the artiste? 👀🤔\\n\\n#ThrowbackThursday  #TV3GH https://t.co/lrJlVApJr9'>, <Tweet id=1592134513219743745 text='RT @Dievko: #ThrowbackThursday https://t.co/tSt2Tfxz8V'>, <Tweet id=1592134381854154752 text='RT @Hichamhabchi: #ThrowbackThursday #JohnWick #keanureeves #characterart #art John Wick animated https://t.co/Az3kjtlrT0'>, <Tweet id=1592134332743045120 text='RT @trishayearwood: Here’s Dottie (on an eaten sofa!) and Hank, (below, totally passed out) after pulling an obvious all-nighter! Dawg, wha…'>, <Tweet id=1592132964804362241 text=\"RT @JCKun92: Here's a bit for #ThrowbackThursday \\nI wasn't sure what was going through my mind when I made this...I was just in the mood fo…\">, <Tweet id=1592132122231582720 text='RT @samir_sonawane: #ThrowbackThursday #Akshaykumar https://t.co/I4ZhQTvrCG'>, <Tweet id=1592131047751553024 text='RT @KinggZayee: #ThrowbackThursday 😏💦 https://t.co/vy6sFDOxq6'>, <Tweet id=1592130820109729793 text='RT @GeorgeStrait: Have you listened to #TheWeightOfTheBadge Compilation? #ThrowbackThursday \\n\\nhttps://t.co/NfcfuLrNPc'>, <Tweet id=1592130439090954243 text=\"RT @MyMetaverse: What better way to celebrate #ThrowbackThursday than by minting an OG multiverse hero NFT?\\n\\nOh, I don't know...how about a…\">, <Tweet id=1592129407426125826 text='RT @GeorgeStrait: #ThrowbackThursday to roping in 2011! https://t.co/sTJoSeH24b'>], includes={}, errors=[], meta={'newest_id': '1592135153194778626', 'oldest_id': '1592129407426125826', 'result_count': 10, 'next_token': 'b26v89c19zqg8o3fpzhk1zwkktwd1fao9gssnlz98s29p'})\n"
     ]
    }
   ],
   "source": [
    "import pprint\n",
    "\n",
    "pp = pprint.PrettyPrinter(indent=4)\n",
    "\n",
    "q = '#ThrowbackThursday' # XXX: Set this variable to a trending topic, or anything else you like. \n",
    "\n",
    "search_results = client.search_recent_tweets(q) \n",
    "\n",
    "# The following code allows you to print in a nice format the contents of search_results\n",
    "pprint.pprint(search_results, depth=1, width=60)"
   ]
  },
  {
   "cell_type": "markdown",
   "metadata": {},
   "source": [
    "### Task 2\n",
    "\n",
    "In the cell below, create a second variable (e.g. `statuses2`) that holds the results of a query other than the one presented above. Think about a query that would yield very different results than the first one, for example one that may yield a shorter output or about a different topic."
   ]
  },
  {
   "cell_type": "code",
   "execution_count": 7,
   "metadata": {},
   "outputs": [
    {
     "name": "stdout",
     "output_type": "stream",
     "text": [
      "Response(data=[<Tweet id=1591919612848922624 text='RT @usgolf95: ⚔️ 𝕯𝖚𝖓𝖌𝖊𝖔𝖓 𝕾𝖞𝖓𝖙𝖍 ⚔️\\n\\nhttps://t.co/TcQVvOeH2W\\n\\nCassettes now in and shipping\\n4 track EP - Cassettes ltd. to 20\\n\\n𝕹𝖔𝖐𝖗𝖔𝖓, 𝕰𝖙𝖊𝖗𝖓𝖆…'>, <Tweet id=1591919515344175104 text='RT @usgolf95: ⚔️ 𝕯𝖚𝖓𝖌𝖊𝖔𝖓 𝕾𝖞𝖓𝖙𝖍 ⚔️\\n\\nhttps://t.co/TcQVvOeH2W\\n\\nCassettes now in and shipping\\n4 track EP - Cassettes ltd. to 20\\n\\n𝕹𝖔𝖐𝖗𝖔𝖓, 𝕰𝖙𝖊𝖗𝖓𝖆…'>, <Tweet id=1591895029697708035 text=\"@elonmusk #dungeonsynth has taken 500 years to evolve from lute to #casio synth, you'll sort this mate. Ask #mortiis  for help mate. He's round by Notodden.\">, <Tweet id=1591875846989828096 text='#NewMusic: Adventure Dungeon\\n\\n#DungeonSynth music for adventuring\\n\\nhttps://t.co/7tPPEJjqCY'>, <Tweet id=1591822357701820417 text='Die uralte Figur der Femme fatale im neuen Gewand von An Old Sad Ghost: #dungeonsynth #neoklassik #neoclassic #classic #Feminism : https://t.co/YfcDDytCAP'>, <Tweet id=1591576010969206784 text='Drone for the Waning Gibbous \\n// https://t.co/WMG3jW0oLS // https://t.co/K5CfVPp4bi \\n \\n#drone #synth #inthestudio  #synthdrone #doomsynth #metalsynth #epicsynth #dungeonsynth #morningsynth #electronica #electronicmusicproducer #soundart #doommetal #eurorack #modularsynth https://t.co/nol0rfvnjR'>, <Tweet id=1591562617533140993 text='RT @Calignosia: Calignosia is currently listed as Dungeon Synth featured artist on the website The Dungeon in Deep Space @GrimGaijin Thanks…'>, <Tweet id=1591449628817473536 text='RT @Calignosia: \"The Elephant King and the Eaters of Filthy Things\" sold out! Thank you all for your great support🙏 #darkambient #dungeonsy…'>, <Tweet id=1591428950047494144 text='@elonmusk #dungeonsynth'>, <Tweet id=1591346319503028224 text='Edition of 6\\n\\nhttps://t.co/Rc2RE3PiDM\\n\\n#dungeonsanddragons \\n#dungeonsynthtapes \\n#dungeonsynth \\n#dungeonsynthvinyl \\n#blackmetalvinyl \\n#darkambientsoundscapes https://t.co/15oLDcVmIb'>], includes={}, errors=[], meta={'newest_id': '1591919612848922624', 'oldest_id': '1591346319503028224', 'result_count': 10, 'next_token': 'b26v89c19zqg8o3fpzhjmykoeqhoa9nptmk6rqy4xsgot'})\n"
     ]
    }
   ],
   "source": [
    "from pytwitter import Api \n",
    "import tweepy \n",
    "import pprint\n",
    "\n",
    "\n",
    "TWITTER_API_KEY = \"gi4baDHkgwOs5tmO6UMLZtydf\"\n",
    "TWITTER_API_SECRET = \"QFjLZcStPJHAcWuvg8t55vlWe2yQHXPKXmJhIR6WMVuYNhroa9\"\n",
    "# to get the oauth credential you need to click on the 'Generate access token' button:\n",
    "TWITTER_ACCESS_TOKEN = \"1297797286148399104-wXG2uobpcdUCaS0AAiFctwrRgQ297j\"\n",
    "TWITTER_ACCESS_SECRET = \"KqwvMay7KXUkb6WfmscYNBMfoZyHzJds5aDIRgEsd59gM\"\n",
    "\n",
    "#tweepy API auth.\n",
    "client = tweepy.Client(bearer_token=\"AAAAAAAAAAAAAAAAAAAAADIpjAEAAAAAzM39DWmUBBGvqvIhwyJOcd7aeLs%3DE39Te6iGGfCgd63FtEZx6Szto6z2gjUFrTONDHaOj6psf3lLV7\")\n",
    "auth = tweepy.OAuthHandler(TWITTER_API_KEY, TWITTER_API_SECRET)\n",
    "auth.set_access_token(TWITTER_ACCESS_TOKEN, TWITTER_ACCESS_SECRET)\n",
    "api = tweepy.API(auth)\n",
    "\n",
    "#exercise part\n",
    "pp = pprint.PrettyPrinter(indent=4)\n",
    "q = '#ThrowbackThursday' #XXX: Set this variable to a trending topic, or anything else you like. \n",
    "search_results = client.search_recent_tweets(q) \n",
    "q2 = '#DungeonSynth' #Dungeon Synth: Set this variable to a trending topic, or anything else you like. \n",
    "statuses2 = client.search_recent_tweets(q2) \n",
    "# The following code allows you to print in a nice format the contents of statuses2\n",
    "pprint.pprint(statuses2, depth=1, width=60)"
   ]
  },
  {
   "cell_type": "markdown",
   "metadata": {},
   "source": [
    "## Part 2: Extracting text, screen names, and hashtags from tweets \n",
    "\n",
    "Simply printing all the search results to screen is nice, but to really start analysing them, it is handy to select the interesting parts and store them in a different structure such as a list. \n",
    "\n",
    "In this example you are using a thing called \"List Comprehension\".\n",
    "\n",
    "### 2.1 List Comprehensions\n",
    "List comprehension is a powerful construct that allows to succinctly build a list.\n",
    "With it you can process items from any iterable (e.g. dictionaries, lists, tuples, iterators...) and output a list while optionally performing an operation on each value.\n",
    "\n",
    "Here's a few examples from Mining the Social Web:"
   ]
  },
  {
   "cell_type": "code",
   "execution_count": 8,
   "metadata": {},
   "outputs": [
    {
     "name": "stdout",
     "output_type": "stream",
     "text": [
      "[0, 2, 4, 6, 8, 10, 12, 14, 16, 18]\n",
      "[1, 9, 25, 49, 81]\n",
      "['The', 'Social', 'Web']\n",
      "[3, 6, 3]\n",
      "[1, 2, 3, 4, 5, 6, 7, 8, 9]\n"
     ]
    }
   ],
   "source": [
    "# double all values from 0 to 9\n",
    "double_list = [i*2 for i in range(10)]\n",
    "\n",
    "# raise to the power of 2, but only if the number is uneven\n",
    "power_even_list = [i**2 for i in range(10) if i%2!=0]\n",
    "\n",
    "# clean strings in a tuple\n",
    "stripped_lines = [x.strip() for x in ('The\\n', 'Social\\n', 'Web\\n')]\n",
    "\n",
    "# return length of each string in stripped_lines\n",
    "len_str_lines = [len(s) for s in stripped_lines]\n",
    "\n",
    "# finally, we can nest list comprehensions to flatten a list of lists:\n",
    "list_of_lists = [[1, 2, 3], [4, 5, 6], [7, 8, 9]]\n",
    "range_9 = [x for y in list_of_lists for x in y]\n",
    "\n",
    "print(double_list)\n",
    "print(power_even_list)\n",
    "print(stripped_lines)\n",
    "print(len_str_lines)\n",
    "print(range_9)"
   ]
  },
  {
   "cell_type": "markdown",
   "metadata": {},
   "source": [
    "### 2.2 Parsing text, screen names and hashtags from tweets\n",
    "*(from Example 1-6 in Mining the Social Web)*\n",
    "\n",
    "Hereafter, we'll be creating a variable `status_texts` of type list. \\\n",
    "The list will be filled with the `text` elements from each `status`, whereas `status` comes from looping through all `statuses` in the `search_results` list (1.2). \\\n",
    "Look up the list comprehensions in your Python reference materials to make sure you understand what's happening here. "
   ]
  },
  {
   "cell_type": "code",
   "execution_count": 10,
   "metadata": {},
   "outputs": [
    {
     "name": "stdout",
     "output_type": "stream",
     "text": [
      "[\n",
      " \"RT @tv3_ghana: Guess the artiste? \\ud83d\\udc40\\ud83e\\udd14\\n\\n#ThrowbackThursday  #TV3GH https://t.co/lrJlVApJr9\",\n",
      " \"RT @Dievko: #ThrowbackThursday https://t.co/tSt2Tfxz8V\",\n",
      " \"RT @Hichamhabchi: #ThrowbackThursday #JohnWick #keanureeves #characterart #art John Wick animated https://t.co/Az3kjtlrT0\",\n",
      " \"RT @trishayearwood: Here\\u2019s Dottie (on an eaten sofa!) and Hank, (below, totally passed out) after pulling an obvious all-nighter! Dawg, wha\\u2026\",\n",
      " \"RT @JCKun92: Here's a bit for #ThrowbackThursday \\nI wasn't sure what was going through my mind when I made this...I was just in the mood fo\\u2026\",\n",
      " \"RT @samir_sonawane: #ThrowbackThursday #Akshaykumar https://t.co/I4ZhQTvrCG\",\n",
      " \"RT @KinggZayee: #ThrowbackThursday \\ud83d\\ude0f\\ud83d\\udca6 https://t.co/vy6sFDOxq6\",\n",
      " \"RT @GeorgeStrait: Have you listened to #TheWeightOfTheBadge Compilation? #ThrowbackThursday \\n\\nhttps://t.co/NfcfuLrNPc\",\n",
      " \"RT @MyMetaverse: What better way to celebrate #ThrowbackThursday than by minting an OG multiverse hero NFT?\\n\\nOh, I don't know...how about a\\u2026\",\n",
      " \"RT @GeorgeStrait: #ThrowbackThursday to roping in 2011! https://t.co/sTJoSeH24b\"\n",
      "]\n",
      "[\n",
      " \"RT\",\n",
      " \"@tv3_ghana:\",\n",
      " \"Guess\",\n",
      " \"the\",\n",
      " \"artiste?\",\n",
      " \"\\ud83d\\udc40\\ud83e\\udd14\",\n",
      " \"#ThrowbackThursday\",\n",
      " \"#TV3GH\",\n",
      " \"https://t.co/lrJlVApJr9\",\n",
      " \"RT\",\n",
      " \"@Dievko:\",\n",
      " \"#ThrowbackThursday\",\n",
      " \"https://t.co/tSt2Tfxz8V\",\n",
      " \"RT\",\n",
      " \"@Hichamhabchi:\",\n",
      " \"#ThrowbackThursday\",\n",
      " \"#JohnWick\",\n",
      " \"#keanureeves\",\n",
      " \"#characterart\",\n",
      " \"#art\",\n",
      " \"John\",\n",
      " \"Wick\",\n",
      " \"animated\",\n",
      " \"https://t.co/Az3kjtlrT0\",\n",
      " \"RT\",\n",
      " \"@trishayearwood:\",\n",
      " \"Here\\u2019s\",\n",
      " \"Dottie\",\n",
      " \"(on\",\n",
      " \"an\",\n",
      " \"eaten\",\n",
      " \"sofa!)\",\n",
      " \"and\",\n",
      " \"Hank,\",\n",
      " \"(below,\",\n",
      " \"totally\",\n",
      " \"passed\",\n",
      " \"out)\",\n",
      " \"after\",\n",
      " \"pulling\",\n",
      " \"an\",\n",
      " \"obvious\",\n",
      " \"all-nighter!\",\n",
      " \"Dawg,\",\n",
      " \"wha\\u2026\",\n",
      " \"RT\",\n",
      " \"@JCKun92:\",\n",
      " \"Here's\",\n",
      " \"a\",\n",
      " \"bit\",\n",
      " \"for\",\n",
      " \"#ThrowbackThursday\",\n",
      " \"I\",\n",
      " \"wasn't\",\n",
      " \"sure\",\n",
      " \"what\",\n",
      " \"was\",\n",
      " \"going\",\n",
      " \"through\",\n",
      " \"my\",\n",
      " \"mind\",\n",
      " \"when\",\n",
      " \"I\",\n",
      " \"made\",\n",
      " \"this...I\",\n",
      " \"was\",\n",
      " \"just\",\n",
      " \"in\",\n",
      " \"the\",\n",
      " \"mood\",\n",
      " \"fo\\u2026\",\n",
      " \"RT\",\n",
      " \"@samir_sonawane:\",\n",
      " \"#ThrowbackThursday\",\n",
      " \"#Akshaykumar\",\n",
      " \"https://t.co/I4ZhQTvrCG\",\n",
      " \"RT\",\n",
      " \"@KinggZayee:\",\n",
      " \"#ThrowbackThursday\",\n",
      " \"\\ud83d\\ude0f\\ud83d\\udca6\",\n",
      " \"https://t.co/vy6sFDOxq6\",\n",
      " \"RT\",\n",
      " \"@GeorgeStrait:\",\n",
      " \"Have\",\n",
      " \"you\",\n",
      " \"listened\",\n",
      " \"to\",\n",
      " \"#TheWeightOfTheBadge\",\n",
      " \"Compilation?\",\n",
      " \"#ThrowbackThursday\",\n",
      " \"https://t.co/NfcfuLrNPc\",\n",
      " \"RT\",\n",
      " \"@MyMetaverse:\",\n",
      " \"What\",\n",
      " \"better\",\n",
      " \"way\",\n",
      " \"to\",\n",
      " \"celebrate\",\n",
      " \"#ThrowbackThursday\",\n",
      " \"than\",\n",
      " \"by\",\n",
      " \"minting\",\n",
      " \"an\",\n",
      " \"OG\",\n",
      " \"multiverse\",\n",
      " \"hero\",\n",
      " \"NFT?\",\n",
      " \"Oh,\",\n",
      " \"I\",\n",
      " \"don't\",\n",
      " \"know...how\",\n",
      " \"about\",\n",
      " \"a\\u2026\",\n",
      " \"RT\",\n",
      " \"@GeorgeStrait:\",\n",
      " \"#ThrowbackThursday\",\n",
      " \"to\",\n",
      " \"roping\",\n",
      " \"in\",\n",
      " \"2011!\",\n",
      " \"https://t.co/sTJoSeH24b\"\n",
      "]\n"
     ]
    }
   ],
   "source": [
    "import json\n",
    "\n",
    "status_texts = [ search_result['id'] for search_result in search_results.data ]\n",
    "# the escape character \"\\\" allows for the list comprehension to continue\n",
    "# on a new line. While not strictly necessary, it makes code more readable\n",
    "# for your fellow programmers.\n",
    "# in order for this to run the following import is needed: import json\n",
    "\n",
    "status_texts = [ search_result['text'] for search_result in search_results.data ]\n",
    "\n",
    "#hashtags = [ hashtag['text'] for status in statuses \\\n",
    "#        for hashtag in status['entities']['hashtags'] ]\n",
    "\n",
    "# Compute a collection of all words from all tweets\n",
    "words = [ w for t in status_texts for w in t.split() ] #split the string on the empty spaces\n",
    "\n",
    "# Explore the first 5 items for each...\n",
    "print(json.dumps(status_texts, indent=1))\n",
    "print(json.dumps(words, indent=1))"
   ]
  },
  {
   "cell_type": "markdown",
   "metadata": {},
   "source": [
    "### Task 3\n",
    "\n",
    "You are now ready to parse usernames, hashtags and text from the results you previously obtained in Task 2 (e.g. `statuses_2`). While doing it, make sure to leave the variables created in 2.2 untouched. Instead, create your own variable names, which you'll be using soon.\n"
   ]
  },
  {
   "cell_type": "code",
   "execution_count": 11,
   "metadata": {},
   "outputs": [
    {
     "name": "stdout",
     "output_type": "stream",
     "text": [
      "[\n",
      " 1591919612848922624,\n",
      " 1591919515344175104,\n",
      " 1591895029697708035,\n",
      " 1591875846989828096,\n",
      " 1591822357701820417,\n",
      " 1591576010969206784,\n",
      " 1591562617533140993,\n",
      " 1591449628817473536,\n",
      " 1591428950047494144,\n",
      " 1591346319503028224\n",
      "]\n",
      "[\n",
      " \"RT @usgolf95: \\u2694\\ufe0f \\ud835\\udd6f\\ud835\\udd9a\\ud835\\udd93\\ud835\\udd8c\\ud835\\udd8a\\ud835\\udd94\\ud835\\udd93 \\ud835\\udd7e\\ud835\\udd9e\\ud835\\udd93\\ud835\\udd99\\ud835\\udd8d \\u2694\\ufe0f\\n\\nhttps://t.co/TcQVvOeH2W\\n\\nCassettes now in and shipping\\n4 track EP - Cassettes ltd. to 20\\n\\n\\ud835\\udd79\\ud835\\udd94\\ud835\\udd90\\ud835\\udd97\\ud835\\udd94\\ud835\\udd93, \\ud835\\udd70\\ud835\\udd99\\ud835\\udd8a\\ud835\\udd97\\ud835\\udd93\\ud835\\udd86\\u2026\",\n",
      " \"RT @usgolf95: \\u2694\\ufe0f \\ud835\\udd6f\\ud835\\udd9a\\ud835\\udd93\\ud835\\udd8c\\ud835\\udd8a\\ud835\\udd94\\ud835\\udd93 \\ud835\\udd7e\\ud835\\udd9e\\ud835\\udd93\\ud835\\udd99\\ud835\\udd8d \\u2694\\ufe0f\\n\\nhttps://t.co/TcQVvOeH2W\\n\\nCassettes now in and shipping\\n4 track EP - Cassettes ltd. to 20\\n\\n\\ud835\\udd79\\ud835\\udd94\\ud835\\udd90\\ud835\\udd97\\ud835\\udd94\\ud835\\udd93, \\ud835\\udd70\\ud835\\udd99\\ud835\\udd8a\\ud835\\udd97\\ud835\\udd93\\ud835\\udd86\\u2026\",\n",
      " \"@elonmusk #dungeonsynth has taken 500 years to evolve from lute to #casio synth, you'll sort this mate. Ask #mortiis  for help mate. He's round by Notodden.\",\n",
      " \"#NewMusic: Adventure Dungeon\\n\\n#DungeonSynth music for adventuring\\n\\nhttps://t.co/7tPPEJjqCY\",\n",
      " \"Die uralte Figur der Femme fatale im neuen Gewand von An Old Sad Ghost: #dungeonsynth #neoklassik #neoclassic #classic #Feminism : https://t.co/YfcDDytCAP\",\n",
      " \"Drone for the Waning Gibbous \\n// https://t.co/WMG3jW0oLS // https://t.co/K5CfVPp4bi \\n \\n#drone #synth #inthestudio  #synthdrone #doomsynth #metalsynth #epicsynth #dungeonsynth #morningsynth #electronica #electronicmusicproducer #soundart #doommetal #eurorack #modularsynth https://t.co/nol0rfvnjR\",\n",
      " \"RT @Calignosia: Calignosia is currently listed as Dungeon Synth featured artist on the website The Dungeon in Deep Space @GrimGaijin Thanks\\u2026\",\n",
      " \"RT @Calignosia: \\\"The Elephant King and the Eaters of Filthy Things\\\" sold out! Thank you all for your great support\\ud83d\\ude4f #darkambient #dungeonsy\\u2026\",\n",
      " \"@elonmusk #dungeonsynth\",\n",
      " \"Edition of 6\\n\\nhttps://t.co/Rc2RE3PiDM\\n\\n#dungeonsanddragons \\n#dungeonsynthtapes \\n#dungeonsynth \\n#dungeonsynthvinyl \\n#blackmetalvinyl \\n#darkambientsoundscapes https://t.co/15oLDcVmIb\"\n",
      "]\n",
      "[\n",
      " \"RT\",\n",
      " \"@usgolf95:\",\n",
      " \"\\u2694\\ufe0f\",\n",
      " \"\\ud835\\udd6f\\ud835\\udd9a\\ud835\\udd93\\ud835\\udd8c\\ud835\\udd8a\\ud835\\udd94\\ud835\\udd93\",\n",
      " \"\\ud835\\udd7e\\ud835\\udd9e\\ud835\\udd93\\ud835\\udd99\\ud835\\udd8d\",\n",
      " \"\\u2694\\ufe0f\",\n",
      " \"https://t.co/TcQVvOeH2W\",\n",
      " \"Cassettes\",\n",
      " \"now\",\n",
      " \"in\",\n",
      " \"and\",\n",
      " \"shipping\",\n",
      " \"4\",\n",
      " \"track\",\n",
      " \"EP\",\n",
      " \"-\",\n",
      " \"Cassettes\",\n",
      " \"ltd.\",\n",
      " \"to\",\n",
      " \"20\",\n",
      " \"\\ud835\\udd79\\ud835\\udd94\\ud835\\udd90\\ud835\\udd97\\ud835\\udd94\\ud835\\udd93,\",\n",
      " \"\\ud835\\udd70\\ud835\\udd99\\ud835\\udd8a\\ud835\\udd97\\ud835\\udd93\\ud835\\udd86\\u2026\",\n",
      " \"RT\",\n",
      " \"@usgolf95:\",\n",
      " \"\\u2694\\ufe0f\",\n",
      " \"\\ud835\\udd6f\\ud835\\udd9a\\ud835\\udd93\\ud835\\udd8c\\ud835\\udd8a\\ud835\\udd94\\ud835\\udd93\",\n",
      " \"\\ud835\\udd7e\\ud835\\udd9e\\ud835\\udd93\\ud835\\udd99\\ud835\\udd8d\",\n",
      " \"\\u2694\\ufe0f\",\n",
      " \"https://t.co/TcQVvOeH2W\",\n",
      " \"Cassettes\",\n",
      " \"now\",\n",
      " \"in\",\n",
      " \"and\",\n",
      " \"shipping\",\n",
      " \"4\",\n",
      " \"track\",\n",
      " \"EP\",\n",
      " \"-\",\n",
      " \"Cassettes\",\n",
      " \"ltd.\",\n",
      " \"to\",\n",
      " \"20\",\n",
      " \"\\ud835\\udd79\\ud835\\udd94\\ud835\\udd90\\ud835\\udd97\\ud835\\udd94\\ud835\\udd93,\",\n",
      " \"\\ud835\\udd70\\ud835\\udd99\\ud835\\udd8a\\ud835\\udd97\\ud835\\udd93\\ud835\\udd86\\u2026\",\n",
      " \"@elonmusk\",\n",
      " \"#dungeonsynth\",\n",
      " \"has\",\n",
      " \"taken\",\n",
      " \"500\",\n",
      " \"years\",\n",
      " \"to\",\n",
      " \"evolve\",\n",
      " \"from\",\n",
      " \"lute\",\n",
      " \"to\",\n",
      " \"#casio\",\n",
      " \"synth,\",\n",
      " \"you'll\",\n",
      " \"sort\",\n",
      " \"this\",\n",
      " \"mate.\",\n",
      " \"Ask\",\n",
      " \"#mortiis\",\n",
      " \"for\",\n",
      " \"help\",\n",
      " \"mate.\",\n",
      " \"He's\",\n",
      " \"round\",\n",
      " \"by\",\n",
      " \"Notodden.\",\n",
      " \"#NewMusic:\",\n",
      " \"Adventure\",\n",
      " \"Dungeon\",\n",
      " \"#DungeonSynth\",\n",
      " \"music\",\n",
      " \"for\",\n",
      " \"adventuring\",\n",
      " \"https://t.co/7tPPEJjqCY\",\n",
      " \"Die\",\n",
      " \"uralte\",\n",
      " \"Figur\",\n",
      " \"der\",\n",
      " \"Femme\",\n",
      " \"fatale\",\n",
      " \"im\",\n",
      " \"neuen\",\n",
      " \"Gewand\",\n",
      " \"von\",\n",
      " \"An\",\n",
      " \"Old\",\n",
      " \"Sad\",\n",
      " \"Ghost:\",\n",
      " \"#dungeonsynth\",\n",
      " \"#neoklassik\",\n",
      " \"#neoclassic\",\n",
      " \"#classic\",\n",
      " \"#Feminism\",\n",
      " \":\",\n",
      " \"https://t.co/YfcDDytCAP\",\n",
      " \"Drone\",\n",
      " \"for\",\n",
      " \"the\",\n",
      " \"Waning\",\n",
      " \"Gibbous\",\n",
      " \"//\",\n",
      " \"https://t.co/WMG3jW0oLS\",\n",
      " \"//\",\n",
      " \"https://t.co/K5CfVPp4bi\",\n",
      " \"#drone\",\n",
      " \"#synth\",\n",
      " \"#inthestudio\",\n",
      " \"#synthdrone\",\n",
      " \"#doomsynth\",\n",
      " \"#metalsynth\",\n",
      " \"#epicsynth\",\n",
      " \"#dungeonsynth\",\n",
      " \"#morningsynth\",\n",
      " \"#electronica\",\n",
      " \"#electronicmusicproducer\",\n",
      " \"#soundart\",\n",
      " \"#doommetal\",\n",
      " \"#eurorack\",\n",
      " \"#modularsynth\",\n",
      " \"https://t.co/nol0rfvnjR\",\n",
      " \"RT\",\n",
      " \"@Calignosia:\",\n",
      " \"Calignosia\",\n",
      " \"is\",\n",
      " \"currently\",\n",
      " \"listed\",\n",
      " \"as\",\n",
      " \"Dungeon\",\n",
      " \"Synth\",\n",
      " \"featured\",\n",
      " \"artist\",\n",
      " \"on\",\n",
      " \"the\",\n",
      " \"website\",\n",
      " \"The\",\n",
      " \"Dungeon\",\n",
      " \"in\",\n",
      " \"Deep\",\n",
      " \"Space\",\n",
      " \"@GrimGaijin\",\n",
      " \"Thanks\\u2026\",\n",
      " \"RT\",\n",
      " \"@Calignosia:\",\n",
      " \"\\\"The\",\n",
      " \"Elephant\",\n",
      " \"King\",\n",
      " \"and\",\n",
      " \"the\",\n",
      " \"Eaters\",\n",
      " \"of\",\n",
      " \"Filthy\",\n",
      " \"Things\\\"\",\n",
      " \"sold\",\n",
      " \"out!\",\n",
      " \"Thank\",\n",
      " \"you\",\n",
      " \"all\",\n",
      " \"for\",\n",
      " \"your\",\n",
      " \"great\",\n",
      " \"support\\ud83d\\ude4f\",\n",
      " \"#darkambient\",\n",
      " \"#dungeonsy\\u2026\",\n",
      " \"@elonmusk\",\n",
      " \"#dungeonsynth\",\n",
      " \"Edition\",\n",
      " \"of\",\n",
      " \"6\",\n",
      " \"https://t.co/Rc2RE3PiDM\",\n",
      " \"#dungeonsanddragons\",\n",
      " \"#dungeonsynthtapes\",\n",
      " \"#dungeonsynth\",\n",
      " \"#dungeonsynthvinyl\",\n",
      " \"#blackmetalvinyl\",\n",
      " \"#darkambientsoundscapes\",\n",
      " \"https://t.co/15oLDcVmIb\"\n",
      "]\n",
      "[[], [], ['#dungeonsynth', '#casio', '#mortiis'], ['#NewMusic', '#DungeonSynth'], ['#dungeonsynth', '#neoklassik', '#neoclassic', '#classic', '#Feminism'], ['#drone', '#synth', '#inthestudio', '#synthdrone', '#doomsynth', '#metalsynth', '#epicsynth', '#dungeonsynth', '#morningsynth', '#electronica', '#electronicmusicproducer', '#soundart', '#doommetal', '#eurorack', '#modularsynth'], [], ['#darkambient', '#dungeonsy'], ['#dungeonsynth'], ['#dungeonsanddragons', '#dungeonsynthtapes', '#dungeonsynth', '#dungeonsynthvinyl', '#blackmetalvinyl', '#darkambientsoundscapes']]\n"
     ]
    }
   ],
   "source": [
    "from pytwitter import Api \n",
    "import tweepy \n",
    "import json\n",
    "import re\n",
    "\n",
    "\n",
    "\n",
    "TWITTER_API_KEY = \"gi4baDHkgwOs5tmO6UMLZtydf\"\n",
    "TWITTER_API_SECRET = \"QFjLZcStPJHAcWuvg8t55vlWe2yQHXPKXmJhIR6WMVuYNhroa9\"\n",
    "# to get the oauth credential you need to click on the 'Generate access token' button:\n",
    "TWITTER_ACCESS_TOKEN = \"1297797286148399104-wXG2uobpcdUCaS0AAiFctwrRgQ297j\"\n",
    "TWITTER_ACCESS_SECRET = \"KqwvMay7KXUkb6WfmscYNBMfoZyHzJds5aDIRgEsd59gM\"\n",
    "\n",
    "#tweepy API auth.\n",
    "client = tweepy.Client(bearer_token=\"AAAAAAAAAAAAAAAAAAAAADIpjAEAAAAAzM39DWmUBBGvqvIhwyJOcd7aeLs%3DE39Te6iGGfCgd63FtEZx6Szto6z2gjUFrTONDHaOj6psf3lLV7\")\n",
    "auth = tweepy.OAuthHandler(TWITTER_API_KEY, TWITTER_API_SECRET)\n",
    "auth.set_access_token(TWITTER_ACCESS_TOKEN, TWITTER_ACCESS_SECRET)\n",
    "api = tweepy.API(auth)\n",
    "\n",
    "#exercise part\n",
    "q2 = '#DungeonSynth' #Dungeon Synth: Set this variable to a trending topic, or anything else you like. \n",
    "statuses2 = client.search_recent_tweets(q2)\n",
    "status2_ids = [statuses2['id'] for statuses2 in statuses2.data]\n",
    "status2_texts = [statuses2['text'] for statuses2 in statuses2.data]\n",
    "hashtags = [re.findall('#\\w+', i) for i in status2_texts]\n",
    "# Compute a collection of all words from all tweets\n",
    "words2 = [w for t in status2_texts for w in t.split()] #split the string on the empty spaces\n",
    "print(json.dumps(status2_ids, indent=1))\n",
    "print(json.dumps(status2_texts, indent=1))\n",
    "print(json.dumps(words2, indent=1))\n",
    "print(hashtags)\n"
   ]
  },
  {
   "cell_type": "markdown",
   "metadata": {},
   "source": [
    "## Part 3: Creating a basic frequency distribution from words in tweets\n",
    "*(from Examples 1-7 in Mining the Social Web)* \n",
    "\n",
    "\n",
    "In the cell below we display the 10 most common hashtag instances:"
   ]
  },
  {
   "cell_type": "code",
   "execution_count": 12,
   "metadata": {},
   "outputs": [
    {
     "name": "stdout",
     "output_type": "stream",
     "text": [
      "[('RT', 10), ('#ThrowbackThursday', 9), ('an', 3), ('I', 3), ('to', 3), ('the', 2), ('was', 2), ('in', 2), ('@GeorgeStrait:', 2), ('@tv3_ghana:', 1)]\n"
     ]
    }
   ],
   "source": [
    "from collections import Counter\n",
    "\n",
    "for item in [words]:\n",
    "    c = Counter(item)\n",
    "    \n",
    "print(c.most_common()[:10]) # top 10"
   ]
  },
  {
   "cell_type": "markdown",
   "metadata": {},
   "source": [
    "Your output should look something like this: \\\n",
    "`[('ThrowbackThursday', 34), ('throwbackthursday', 11), ('TBT', 6), ('ThrowBackThursday', 6), ('Trivia', 3), ('madoka_magica', 2), ('New', 2), ('EURO2020', 2), ('artists', 2)]`\n",
    "\n",
    "### Task 4\n",
    "Show hashtags frequency for results that you obtained in Task 3. Think about possible explanations for the different results you get from the analyses for the different queries.\n"
   ]
  },
  {
   "cell_type": "code",
   "execution_count": 13,
   "metadata": {},
   "outputs": [
    {
     "name": "stdout",
     "output_type": "stream",
     "text": [
      "[('#dungeonsynth', 5), ('#casio', 1), ('#mortiis', 1), ('#NewMusic:', 1), ('#DungeonSynth', 1)]\n"
     ]
    }
   ],
   "source": [
    "from pytwitter import Api \n",
    "import tweepy \n",
    "import json\n",
    "from collections import Counter\n",
    "import re\n",
    "\n",
    "\n",
    "TWITTER_API_KEY = \"gi4baDHkgwOs5tmO6UMLZtydf\"\n",
    "TWITTER_API_SECRET = \"QFjLZcStPJHAcWuvg8t55vlWe2yQHXPKXmJhIR6WMVuYNhroa9\"\n",
    "# to get the oauth credential you need to click on the 'Generate access token' button:\n",
    "TWITTER_ACCESS_TOKEN = \"1297797286148399104-wXG2uobpcdUCaS0AAiFctwrRgQ297j\"\n",
    "TWITTER_ACCESS_SECRET = \"KqwvMay7KXUkb6WfmscYNBMfoZyHzJds5aDIRgEsd59gM\"\n",
    "\n",
    "#tweepy API auth.\n",
    "client = tweepy.Client(bearer_token=\"AAAAAAAAAAAAAAAAAAAAADIpjAEAAAAAzM39DWmUBBGvqvIhwyJOcd7aeLs%3DE39Te6iGGfCgd63FtEZx6Szto6z2gjUFrTONDHaOj6psf3lLV7\")\n",
    "auth = tweepy.OAuthHandler(TWITTER_API_KEY, TWITTER_API_SECRET)\n",
    "auth.set_access_token(TWITTER_ACCESS_TOKEN, TWITTER_ACCESS_SECRET)\n",
    "api = tweepy.API(auth)\n",
    "\n",
    "#exercise part\n",
    "q2 = '#DungeonSynth' #Dungeon Synth: Set this variable to a trending topic, or anything else you like. \n",
    "statuses2 = client.search_recent_tweets(q2)\n",
    "status2_texts = [statuses2['text'] for statuses2 in statuses2.data]\n",
    "# Compute a collection of all words from all tweets\n",
    "words2 = [w for t in status2_texts for w in t.split()] #split the string on the empty spaces\n",
    "# Explore the first 5 items for each...\n",
    "for item in [words2]:\n",
    "    counter = Counter()\n",
    "    hashes = [hash for hash in words2 if hash.startswith('#')]\n",
    "    counter.update(hashes)\n",
    "print(counter.most_common(5))\n",
    "\n"
   ]
  },
  {
   "cell_type": "markdown",
   "metadata": {},
   "source": [
    "### 3.1 Storing your results\n",
    "So far, we have been storing the data in working memory. Often it's handy to store your data to disk so you can retrieve it in a next session. \n",
    "\n",
    "The pickle module lets you do exactly that, by serializing data in a binary format.\n"
   ]
  },
  {
   "cell_type": "code",
   "execution_count": 14,
   "metadata": {},
   "outputs": [],
   "source": [
    "import pickle\n",
    "\n",
    "filepath = \"my_data.pickle\"\n",
    "# this indented python syntax is broadly defined as \"context manager\".\n",
    "# This means that everything happening under its indentation will use f\n",
    "# as file handle to filepath. The Shortand `wb` stands for \"write binary\",\n",
    "# which is how we serialize data to disk.\n",
    "with open(filepath, \"wb\") as f:\n",
    "    pickle.dump(words, f) # write the contents of list 'words' to file 'f'\n",
    "    \n",
    "# Note that, after the end of the indented block, the file is automatically closed.\n",
    "# Hence, no memory resource on your system is wasted idly."
   ]
  },
  {
   "cell_type": "markdown",
   "metadata": {},
   "source": [
    "If you browse to your working directory, you should find a file there named \"myData.pickle\". You can open this in a text editor, or load its contents back into a variable to do some more analyses on.\n"
   ]
  },
  {
   "cell_type": "code",
   "execution_count": 15,
   "metadata": {},
   "outputs": [
    {
     "name": "stdout",
     "output_type": "stream",
     "text": [
      "['RT', '@tv3_ghana:', 'Guess', 'the', 'artiste?', '👀🤔', '#ThrowbackThursday', '#TV3GH', 'https://t.co/lrJlVApJr9', 'RT', '@Dievko:', '#ThrowbackThursday', 'https://t.co/tSt2Tfxz8V', 'RT', '@Hichamhabchi:', '#ThrowbackThursday', '#JohnWick', '#keanureeves', '#characterart', '#art', 'John', 'Wick', 'animated', 'https://t.co/Az3kjtlrT0', 'RT', '@trishayearwood:', 'Here’s', 'Dottie', '(on', 'an', 'eaten', 'sofa!)', 'and', 'Hank,', '(below,', 'totally', 'passed', 'out)', 'after', 'pulling', 'an', 'obvious', 'all-nighter!', 'Dawg,', 'wha…', 'RT', '@JCKun92:', \"Here's\", 'a', 'bit', 'for', '#ThrowbackThursday', 'I', \"wasn't\", 'sure', 'what', 'was', 'going', 'through', 'my', 'mind', 'when', 'I', 'made', 'this...I', 'was', 'just', 'in', 'the', 'mood', 'fo…', 'RT', '@samir_sonawane:', '#ThrowbackThursday', '#Akshaykumar', 'https://t.co/I4ZhQTvrCG', 'RT', '@KinggZayee:', '#ThrowbackThursday', '😏💦', 'https://t.co/vy6sFDOxq6', 'RT', '@GeorgeStrait:', 'Have', 'you', 'listened', 'to', '#TheWeightOfTheBadge', 'Compilation?', '#ThrowbackThursday', 'https://t.co/NfcfuLrNPc', 'RT', '@MyMetaverse:', 'What', 'better', 'way', 'to', 'celebrate', '#ThrowbackThursday', 'than', 'by', 'minting', 'an', 'OG', 'multiverse', 'hero', 'NFT?', 'Oh,', 'I', \"don't\", 'know...how', 'about', 'a…', 'RT', '@GeorgeStrait:', '#ThrowbackThursday', 'to', 'roping', 'in', '2011!', 'https://t.co/sTJoSeH24b']\n"
     ]
    }
   ],
   "source": [
    "# open the myData.pickle file and store its contents into variable 'words'\n",
    "\n",
    "with open(filepath, \"rb\") as f:\n",
    "    words = pickle.load(f)\n",
    "print(words)"
   ]
  },
  {
   "cell_type": "markdown",
   "metadata": {},
   "source": [
    "### 3.2 Using prettytable to display tuples in a nice way\n",
    "\n"
   ]
  },
  {
   "cell_type": "code",
   "execution_count": 16,
   "metadata": {},
   "outputs": [
    {
     "name": "stdout",
     "output_type": "stream",
     "text": [
      "+--------------------+-------+\n",
      "| Words              | Count |\n",
      "+--------------------+-------+\n",
      "| RT                 |    10 |\n",
      "| #ThrowbackThursday |     9 |\n",
      "| an                 |     3 |\n",
      "| I                  |     3 |\n",
      "| to                 |     3 |\n",
      "| the                |     2 |\n",
      "| was                |     2 |\n",
      "| in                 |     2 |\n",
      "| @GeorgeStrait:     |     2 |\n",
      "| @tv3_ghana:        |     1 |\n",
      "+--------------------+-------+\n"
     ]
    }
   ],
   "source": [
    "from prettytable import PrettyTable\n",
    "\n",
    "\n",
    "pt = PrettyTable(field_names=['Words', 'Count'])\n",
    "c = Counter(words)\n",
    "[ pt.add_row(kv) for kv in c.most_common()[:10] ]\n",
    "pt.align[\"Words\"], pt.align['Count'] = 'l', 'r' # Set column alignment\n",
    "print(pt) "
   ]
  },
  {
   "cell_type": "markdown",
   "metadata": {},
   "source": [
    "### 3.3 Calculating lexical diversity for tweets \n",
    "*(from Example 1-9 in Mining the Social Web)*:"
   ]
  },
  {
   "cell_type": "code",
   "execution_count": 17,
   "metadata": {},
   "outputs": [
    {
     "name": "stdout",
     "output_type": "stream",
     "text": [
      "0.7768595041322314\n",
      "1.0\n"
     ]
    }
   ],
   "source": [
    "# Define a function for computing lexical diversity\n",
    "def lexical_diversity(tokens):\n",
    "    return 1.0*len(set(tokens))/len(tokens)\n",
    "\n",
    "# Define a function for computing the average number of words per tweet\n",
    "def average_words(statuses):\n",
    "    total_words = sum([ len(s.split()) for s in status_texts ])\n",
    "    return 1.0*total_words/len(statuses) \n",
    "\n",
    "# Let's use these functions:\n",
    "\n",
    "print(lexical_diversity(words))\n",
    "print(average_words(words))"
   ]
  },
  {
   "cell_type": "markdown",
   "metadata": {},
   "source": [
    "### Task 5: What do the printed numbers indicate? Try to explain them.\n",
    "\n",
    "(*Double click this cell to write your answer*)\n",
    "#The numbers from the above output represents the length of a text.\n",
    "#The numbers from the first output: \"0.77..\" represents the occurrences of the \"tokens\" sequences in a text.\n",
    "#The numbers from the second output: \"1.0\" represents the simple length of a text."
   ]
  },
  {
   "cell_type": "markdown",
   "metadata": {},
   "source": [
    "### 3.4 Looking up users who have retweeted a status \n",
    "*(from Example 1-11 in Mining the Social Web):*"
   ]
  },
  {
   "cell_type": "code",
   "execution_count": 18,
   "metadata": {},
   "outputs": [
    {
     "name": "stdout",
     "output_type": "stream",
     "text": [
      "Users who've retweeted the tweet:\n",
      "\n",
      "[Response(data=[<User id=289180596 name=mattias username=mblandnc>, <User id=1225532665849405448 name=connor username=Connormccoolman>, <User id=1198130211226898432 name=\"Robert Mueller\" username=DarnMilk>, <User id=2382629469 name=Coy Holt username=coy_holt>, <User id=1184868443679526913 name=HarleyBee 🐝 username=QueenHarleyBee>, <User id=54946944 name=Marko ⭐️⭐️⭐️⭐️⭐️⭐️ username=MARKOPOLO100>, <User id=4061282055 name=Samuel Kutzer username=SHAK_08>, <User id=279634273 name=Sebastian username=saabooboo>, <User id=15712221 name=smirnoff ice enjoyer username=notJacksonfish>, <User id=329920551 name=Martinez username=MartinFaced>, <User id=3883486521 name=Haha Lexis username=cestkisa>, <User id=263972455 name=Ernesto Garza username=elchivo72>, <User id=2263463959 name=elon’s musk 🏳️‍🌈 username=abrewer18>, <User id=57758833 name=Smitty Werbenmanjensen username=ChrEEstosK>, <User id=1516575908 name=c🦃rm🎄c username=McCormacSpices>, <User id=776049844582363137 name=Trent Mahomie username=MahomieTrent>, <User id=909228187 name=chris Mcelfresh username=ChrisMcElfresh1>, <User id=315356135 name=honest caruso fan username=Deonpurpkoolaid>, <User id=3344925987 name=𖤐 Head Honcho 𖤐 username=headhonchoeyad>, <User id=3177249038 name=DELL username=dellwonj>, <User id=451321010 name=John_Titor username=_Philosophried>, <User id=2412605557 name=Moleezy🍩💐❤️ username=MoleezyTweets>, <User id=2612883028 name=Miguel Rodriguez username=miguelfinally>, <User id=912515976 name=Anthony username=apleasant24>, <User id=1543951860 name=Box Carbonie username=westys_wang>, <User id=911899652 name=German Acosta 🐝 username=german10239>, <User id=872856216 name=Smoketsu username=TheDrtyCount420>, <User id=434415503 name=Handsome Bartender username=ZAKM8>, <User id=409378122 name=mr.milton username=FantasticMrAlba>, <User id=751040934566096896 name=no para no para username=beerreunno>, <User id=1281691740 name=alex username=yeahokayalex>, <User id=490685287 name=rick rolled piss boy username=Anthony__Eaton>, <User id=263357010 name=Jordan Lavender username=JordFro>, <User id=50721811 name=Ignacio Alcuri username=ignacioalcuri>, <User id=1048811233321930753 name=Jer\"Z\"Boi username=Marty_McSwag>, <User id=1181408011 name=Mako Mori username=makomori0>, <User id=437507293 name=oliver smith username=oliversmith36>, <User id=804125353878769664 name=Authoritarian Regime Admirer username=serge_gainsbrah>, <User id=2256991345 name=Jake username=henkemcspanky>, <User id=584811469 name=Angelica Hernandez username=SillyNerd14>, <User id=40436554 name=Marc username=DongQuixote>, <User id=787763047 name=Ali Amiri username=expritel>, <User id=3127684577 name=Netan Sansara DSC (not a parody) username=SkroSalah>, <User id=3379085104 name=Dennis username=Dennis_BurnHall>, <User id=1166811230511587328 name=Lagrange 5 username=06rPilot>, <User id=262562037 name=SHANE WATSON username=TheShaneWatson>, <User id=710604361815236608 name=I WILL KILL YOU JARED LETO username=t0nyahard0n>, <User id=1075081591 name=avon username=avonwoodgrain>, <User id=902384485 name=Alex username=ajsplaine>, <User id=928406268217348096 name=. username=colddude123>, <User id=141866886 name=Jim “Butters” Swanson username=konstamadianos>, <User id=1376958812 name=MohZuluFree🐝 username=Mohzulufree>, <User id=711153763 name=balrog username=GrapeEnjoyer>, <User id=1208579779328385024 name=Timothy username=somee_person>, <User id=64822720 name=Kip Dynamite username=kevinThoyt>, <User id=2457934788 name=użytkownik username=dubspl>, <User id=1105764978 name=Chris Wolfe username=chrisdwolfe>, <User id=1003331170010951680 name=jonny snows username=jjjoro_>, <User id=741494134674853888 name=dude, username=lemonist666>, <User id=54817454 name=( •_•) username=iSayDumbShit>, <User id=729125465529552897 name=SoConfuse username=SoConfuse>, <User id=482393835 name=ivan username=ivnxnuno>, <User id=56500975 name=D username=realnamedick>, <User id=706926134953385984 name=GUILLEN⚡️ username=aquillen95>, <User id=2569680346 name=Jaime Daniel username=jayvillawolf>, <User id=2565335717 name=michael m penis username=michaelmpenis>, <User id=511955089 name=B username=djbighugz>, <User id=3045031701 name=Rev. Rictor Von Poofton 🇺🇦 🇵🇸 🇦🇲 username=R_VonPoofton>, <User id=981902629 name=Danny 🌹 username=Invaderfrog1347>, <User id=309305950 name=Michael Southern username=M_Southern_>, <User id=909604438322458626 name=🚬 username=lilsmokebreak>, <User id=382502868 name=Chuck Finley username=DigitalJedi2173>, <User id=1166839757864701954 name=Mark username=markis_maximus>, <User id=904086082546843648 name=Tyler Gibbons username=Gibbowns>, <User id=177324152 name=Joey Albanese username=Joey_Albs>, <User id=61652409 name=Alejandra♡🥀 username=Hello_Allieee>, <User id=116328631 name=lil succubus username=antisuccubus>, <User id=1180180745601597445 name=sir prize username=RudyAzcona>, <User id=457298402 name=1/1 Capital 🅿️ 👨🏻‍🚀 username=_PleasureP>, <User id=515094479 name=Joe username=JabroniMurph>], includes={}, errors=[], meta={'result_count': 80, 'next_token': '7140dibdnow9c7btw452fmh8ost58unnv5eyuor56q2bb'})]\n"
     ]
    }
   ],
   "source": [
    "retweets = client.get_retweeters(id=1224140327688249349) # Get the original tweet id for a tweet from its retweeted_status node and insert it here\n",
    "print(\"Users who've retweeted the tweet:\\n\")\n",
    "print([retweets])"
   ]
  },
  {
   "cell_type": "markdown",
   "metadata": {},
   "source": [
    "### Task 6 (advanced)\n",
    "\n",
    "If you have a Twitter account with a nontrivial number of tweets, request your historical tweet archive from your account settings and analyze it. \\\n",
    "The export of your account data includes files organized by time period in a convenient JSON format. See the README.txt file included in the downloaded archive for more details. \n",
    "\n",
    "\n",
    "\n",
    "What are the most common terms that appear in your tweets? \\\n",
    "Who do you retweet the most often? \\\n",
    "How many of your tweets are retweeted (and why do you think this is the case)?"
   ]
  },
  {
   "cell_type": "markdown",
   "metadata": {},
   "source": [
    "### 3.6 Plotting frequencies of words \n",
    "*(from Example 1-12 in Mining the Social Web)*\n",
    "\n",
    "\n",
    "In the previous exercises we have been looking at the text from the tweets, but when you retrieved the results, you retrieved much more information about the tweets, such as the username of the person who shared this tweet with the world. \n",
    "\n",
    "\n",
    "You can use this information to find out who retweets whom in our examples. "
   ]
  },
  {
   "cell_type": "code",
   "execution_count": 19,
   "metadata": {},
   "outputs": [
    {
     "data": {
      "image/png": "[encoded data removed]",
      "text/plain": [
       "<Figure size 432x288 with 1 Axes>"
      ]
     },
     "metadata": {
      "needs_background": "light"
     },
     "output_type": "display_data"
    }
   ],
   "source": [
    "word_counts = sorted(Counter(words).values(), reverse=True)\n",
    "import matplotlib.pyplot as plt\n",
    "plt.loglog(word_counts)\n",
    "plt.ylabel(\"Freq\")\n",
    "plt.xlabel(\"Word Rank\")\n",
    "plt.show()"
   ]
  },
  {
   "cell_type": "markdown",
   "metadata": {},
   "source": [
    "### Generating histograms of words, screen names, and hashtags \n",
    "*(from Example 1-13 in Mining the Social Web):*"
   ]
  },
  {
   "cell_type": "code",
   "execution_count": 20,
   "metadata": {},
   "outputs": [
    {
     "data": {
      "text/plain": [
       "<Figure size 432x288 with 0 Axes>"
      ]
     },
     "execution_count": 20,
     "metadata": {},
     "output_type": "execute_result"
    },
    {
     "data": {
      "image/png": "[encoded data removed]",
      "text/plain": [
       "<Figure size 432x288 with 1 Axes>"
      ]
     },
     "metadata": {
      "needs_background": "light"
     },
     "output_type": "display_data"
    },
    {
     "data": {
      "text/plain": [
       "<Figure size 432x288 with 0 Axes>"
      ]
     },
     "metadata": {},
     "output_type": "display_data"
    }
   ],
   "source": [
    "c = Counter(words)\n",
    "plt.hist(c.values())\n",
    "    \n",
    "plt.title(\"\")\n",
    "plt.ylabel(\"Number of items in bin\")\n",
    "plt.xlabel(\"Bins (number of times an item appeared)\")\n",
    "    \n",
    "plt.figure()"
   ]
  },
  {
   "cell_type": "code",
   "execution_count": 21,
   "metadata": {},
   "outputs": [
    {
     "name": "stdout",
     "output_type": "stream",
     "text": [
      "Collecting seaborn\n",
      "  Downloading seaborn-0.12.1-py3-none-any.whl (288 kB)\n",
      "     -------------------------------------- 288.2/288.2 kB 5.9 MB/s eta 0:00:00\n",
      "Requirement already satisfied: numpy>=1.17 in c:\\users\\hugoz\\appdata\\local\\programs\\python\\python310\\lib\\site-packages (from seaborn) (1.22.1)\n",
      "Requirement already satisfied: pandas>=0.25 in c:\\users\\hugoz\\appdata\\local\\programs\\python\\python310\\lib\\site-packages (from seaborn) (1.4.1)\n",
      "Requirement already satisfied: matplotlib!=3.6.1,>=3.1 in c:\\users\\hugoz\\appdata\\local\\programs\\python\\python310\\lib\\site-packages (from seaborn) (3.6.0)\n",
      "Requirement already satisfied: packaging>=20.0 in c:\\users\\hugoz\\appdata\\local\\programs\\python\\python310\\lib\\site-packages (from matplotlib!=3.6.1,>=3.1->seaborn) (21.3)\n",
      "Requirement already satisfied: contourpy>=1.0.1 in c:\\users\\hugoz\\appdata\\local\\programs\\python\\python310\\lib\\site-packages (from matplotlib!=3.6.1,>=3.1->seaborn) (1.0.5)\n",
      "Requirement already satisfied: fonttools>=4.22.0 in c:\\users\\hugoz\\appdata\\local\\programs\\python\\python310\\lib\\site-packages (from matplotlib!=3.6.1,>=3.1->seaborn) (4.37.3)\n",
      "Requirement already satisfied: cycler>=0.10 in c:\\users\\hugoz\\appdata\\local\\programs\\python\\python310\\lib\\site-packages (from matplotlib!=3.6.1,>=3.1->seaborn) (0.11.0)\n",
      "Requirement already satisfied: pillow>=6.2.0 in c:\\users\\hugoz\\appdata\\local\\programs\\python\\python310\\lib\\site-packages (from matplotlib!=3.6.1,>=3.1->seaborn) (9.2.0)\n",
      "Requirement already satisfied: kiwisolver>=1.0.1 in c:\\users\\hugoz\\appdata\\local\\programs\\python\\python310\\lib\\site-packages (from matplotlib!=3.6.1,>=3.1->seaborn) (1.4.4)\n",
      "Requirement already satisfied: python-dateutil>=2.7 in c:\\users\\hugoz\\appdata\\local\\programs\\python\\python310\\lib\\site-packages (from matplotlib!=3.6.1,>=3.1->seaborn) (2.8.2)\n",
      "Requirement already satisfied: pyparsing>=2.2.1 in c:\\users\\hugoz\\appdata\\local\\programs\\python\\python310\\lib\\site-packages (from matplotlib!=3.6.1,>=3.1->seaborn) (3.0.9)\n",
      "Requirement already satisfied: pytz>=2020.1 in c:\\users\\hugoz\\appdata\\local\\programs\\python\\python310\\lib\\site-packages (from pandas>=0.25->seaborn) (2021.3)\n",
      "Requirement already satisfied: six>=1.5 in c:\\users\\hugoz\\appdata\\local\\programs\\python\\python310\\lib\\site-packages (from python-dateutil>=2.7->matplotlib!=3.6.1,>=3.1->seaborn) (1.16.0)\n",
      "Installing collected packages: seaborn\n",
      "Successfully installed seaborn-0.12.1\n"
     ]
    },
    {
     "name": "stderr",
     "output_type": "stream",
     "text": [
      "C:\\Users\\hugoz\\AppData\\Local\\Temp\\ipykernel_18620\\2177435562.py:5: UserWarning: \n",
      "\n",
      "`distplot` is a deprecated function and will be removed in seaborn v0.14.0.\n",
      "\n",
      "Please adapt your code to use either `displot` (a figure-level function with\n",
      "similar flexibility) or `histplot` (an axes-level function for histograms).\n",
      "\n",
      "For a guide to updating your code to use the new functions, please see\n",
      "https://gist.github.com/mwaskom/de44147ed2974457ad6372750bbe5751\n",
      "\n",
      "  sns.distplot(word_counts, kde=False, rug=True)\n"
     ]
    },
    {
     "data": {
      "text/plain": [
       "<AxesSubplot: >"
      ]
     },
     "execution_count": 21,
     "metadata": {},
     "output_type": "execute_result"
    },
    {
     "data": {
      "image/png": "[encoded data removed]",
      "text/plain": [
       "<Figure size 432x288 with 1 Axes>"
      ]
     },
     "metadata": {
      "needs_background": "light"
     },
     "output_type": "display_data"
    }
   ],
   "source": [
    "# extra: seaborn plots with a one-liner.\n",
    "!pip install seaborn\n",
    "import seaborn as sns\n",
    "\n",
    "sns.distplot(word_counts, kde=False, rug=True)\n"
   ]
  }
 ],
 "metadata": {
  "kernelspec": {
   "display_name": "Python 3.10.1 64-bit",
   "language": "python",
   "name": "python3"
  },
  "language_info": {
   "codemirror_mode": {
    "name": "ipython",
    "version": 3
   },
   "file_extension": ".py",
   "mimetype": "text/x-python",
   "name": "python",
   "nbconvert_exporter": "python",
   "pygments_lexer": "ipython3",
   "version": "3.10.1"
  },
  "vscode": {
   "interpreter": {
    "hash": "7a0138d27dc15ee4cb695af8dd977fbb152b4b260c442a2ca2d6adae8ed2f5ee"
   }
  }
 },
 "nbformat": 4,
 "nbformat_minor": 2
}

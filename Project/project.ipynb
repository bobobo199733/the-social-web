{
 "cells": [
  {
   "cell_type": "code",
   "execution_count": 246,
   "metadata": {},
   "outputs": [],
   "source": [
    "import json\n",
    "import re\n",
    "\n",
    "import matplotlib.pyplot as plt\n",
    "import nltk\n",
    "import pandas as pd\n",
    "import tweepy\n",
    "from textblob import TextBlob\n",
    "from wordcloud import WordCloud"
   ]
  },
  {
   "cell_type": "code",
   "execution_count": 247,
   "metadata": {},
   "outputs": [],
   "source": [
    "f = open(\"data.json\")\n",
    "data = json.load(f)\n",
    "f.close()"
   ]
  },
  {
   "cell_type": "code",
   "execution_count": 248,
   "metadata": {},
   "outputs": [
    {
     "data": {
      "text/plain": [
       "1820"
      ]
     },
     "execution_count": 248,
     "metadata": {},
     "output_type": "execute_result"
    }
   ],
   "source": [
    "len(data)"
   ]
  },
  {
   "cell_type": "code",
   "execution_count": 249,
   "metadata": {},
   "outputs": [
    {
     "data": {
      "text/html": [
       "<div>\n",
       "<style scoped>\n",
       "    .dataframe tbody tr th:only-of-type {\n",
       "        vertical-align: middle;\n",
       "    }\n",
       "\n",
       "    .dataframe tbody tr th {\n",
       "        vertical-align: top;\n",
       "    }\n",
       "\n",
       "    .dataframe thead th {\n",
       "        text-align: right;\n",
       "    }\n",
       "</style>\n",
       "<table border=\"1\" class=\"dataframe\">\n",
       "  <thead>\n",
       "    <tr style=\"text-align: right;\">\n",
       "      <th></th>\n",
       "      <th>Tweets</th>\n",
       "    </tr>\n",
       "  </thead>\n",
       "  <tbody>\n",
       "    <tr>\n",
       "      <th>0</th>\n",
       "      <td>OH MY GOD IT'S 52! #RIPTwitter</td>\n",
       "    </tr>\n",
       "    <tr>\n",
       "      <th>1</th>\n",
       "      <td>Done, #RIPTwitter @TribelSocial\\n\\nTRUDYLH20 ~ https://t.co/d88Zor5KY2 https://t.co/svR84Yjtpg</td>\n",
       "    </tr>\n",
       "    <tr>\n",
       "      <th>2</th>\n",
       "      <td>Absolutely, #RIPTwitter @TribelSocial\\n\\nTrudy Daves https://t.co/d88Zor5KY2 https://t.co/svR84Yjtpg</td>\n",
       "    </tr>\n",
       "    <tr>\n",
       "      <th>3</th>\n",
       "      <td>Hey, The number is 35! #RIPTwitter</td>\n",
       "    </tr>\n",
       "    <tr>\n",
       "      <th>4</th>\n",
       "      <td>Of more than 140,000 Twitter users who announced they were moving to Mastodon using tags like #ByeByeTwitter or #RIPTwitter, just 1.6 per cent have actually quit the social media platform https://t.co/kyhhYECKKu</td>\n",
       "    </tr>\n",
       "  </tbody>\n",
       "</table>\n",
       "</div>"
      ],
      "text/plain": [
       "                                                                                                                                                                                                                Tweets\n",
       "0  OH MY GOD IT'S 52! #RIPTwitter                                                                                                                                                                                     \n",
       "1  Done, #RIPTwitter @TribelSocial\\n\\nTRUDYLH20 ~ https://t.co/d88Zor5KY2 https://t.co/svR84Yjtpg                                                                                                                     \n",
       "2  Absolutely, #RIPTwitter @TribelSocial\\n\\nTrudy Daves https://t.co/d88Zor5KY2 https://t.co/svR84Yjtpg                                                                                                               \n",
       "3  Hey, The number is 35! #RIPTwitter                                                                                                                                                                                 \n",
       "4  Of more than 140,000 Twitter users who announced they were moving to Mastodon using tags like #ByeByeTwitter or #RIPTwitter, just 1.6 per cent have actually quit the social media platform https://t.co/kyhhYECKKu"
      ]
     },
     "execution_count": 249,
     "metadata": {},
     "output_type": "execute_result"
    }
   ],
   "source": [
    "df = pd.DataFrame(data, columns=['Tweets'])  \n",
    "df.head()"
   ]
  },
  {
   "cell_type": "code",
   "execution_count": 250,
   "metadata": {},
   "outputs": [
    {
     "name": "stderr",
     "output_type": "stream",
     "text": [
      "C:\\Users\\hugoz\\AppData\\Local\\Temp\\ipykernel_17296\\690075854.py:1: FutureWarning: Passing a negative integer is deprecated in version 1.0 and will not be supported in future version. Instead, use None to not limit the column width.\n",
      "  pd.set_option(\"display.max_colwidth\", -1)\n"
     ]
    },
    {
     "data": {
      "text/html": [
       "<div>\n",
       "<style scoped>\n",
       "    .dataframe tbody tr th:only-of-type {\n",
       "        vertical-align: middle;\n",
       "    }\n",
       "\n",
       "    .dataframe tbody tr th {\n",
       "        vertical-align: top;\n",
       "    }\n",
       "\n",
       "    .dataframe thead th {\n",
       "        text-align: right;\n",
       "    }\n",
       "</style>\n",
       "<table border=\"1\" class=\"dataframe\">\n",
       "  <thead>\n",
       "    <tr style=\"text-align: right;\">\n",
       "      <th></th>\n",
       "      <th>Tweets</th>\n",
       "    </tr>\n",
       "  </thead>\n",
       "  <tbody>\n",
       "    <tr>\n",
       "      <th>488</th>\n",
       "      <td>Hey, The number is 50! #RIPTwitter</td>\n",
       "    </tr>\n",
       "    <tr>\n",
       "      <th>294</th>\n",
       "      <td>Are you ready for the hype? Ready, Set... IT'S 2!!! #RIPTwitter</td>\n",
       "    </tr>\n",
       "    <tr>\n",
       "      <th>1734</th>\n",
       "      <td>You are not gonna believe it.. It's 46! #RIPTwitter</td>\n",
       "    </tr>\n",
       "    <tr>\n",
       "      <th>710</th>\n",
       "      <td>Sorted out the 80 less followers, and found 5 had unfollowed.  75 just disappeared!  #RIPTwitter</td>\n",
       "    </tr>\n",
       "    <tr>\n",
       "      <th>380</th>\n",
       "      <td>So, it's been two weeks since Twitter \"died\" 🤔 #RIPTwitter https://t.co/WnDZE0TnbF</td>\n",
       "    </tr>\n",
       "    <tr>\n",
       "      <th>11</th>\n",
       "      <td>Are you ready for the hype? Ready, Set... IT'S 17!!! #RIPTwitter</td>\n",
       "    </tr>\n",
       "    <tr>\n",
       "      <th>849</th>\n",
       "      <td>OH MY GOD IT'S 23! #RIPTwitter</td>\n",
       "    </tr>\n",
       "    <tr>\n",
       "      <th>1115</th>\n",
       "      <td>OH MY GOD IT'S 39! #RIPTwitter</td>\n",
       "    </tr>\n",
       "    <tr>\n",
       "      <th>896</th>\n",
       "      <td>OH MY GOD IT'S 96! #RIPTwitter</td>\n",
       "    </tr>\n",
       "    <tr>\n",
       "      <th>522</th>\n",
       "      <td>Hey, The number is 37! #RIPTwitter</td>\n",
       "    </tr>\n",
       "  </tbody>\n",
       "</table>\n",
       "</div>"
      ],
      "text/plain": [
       "                                                                                                Tweets\n",
       "488   Hey, The number is 50! #RIPTwitter                                                              \n",
       "294   Are you ready for the hype? Ready, Set... IT'S 2!!! #RIPTwitter                                 \n",
       "1734  You are not gonna believe it.. It's 46! #RIPTwitter                                             \n",
       "710   Sorted out the 80 less followers, and found 5 had unfollowed.  75 just disappeared!  #RIPTwitter\n",
       "380   So, it's been two weeks since Twitter \"died\" 🤔 #RIPTwitter https://t.co/WnDZE0TnbF              \n",
       "11    Are you ready for the hype? Ready, Set... IT'S 17!!! #RIPTwitter                                \n",
       "849   OH MY GOD IT'S 23! #RIPTwitter                                                                  \n",
       "1115  OH MY GOD IT'S 39! #RIPTwitter                                                                  \n",
       "896   OH MY GOD IT'S 96! #RIPTwitter                                                                  \n",
       "522   Hey, The number is 37! #RIPTwitter                                                              "
      ]
     },
     "execution_count": 250,
     "metadata": {},
     "output_type": "execute_result"
    }
   ],
   "source": [
    "pd.set_option(\"display.max_colwidth\", -1) \n",
    "df.sample(10)"
   ]
  },
  {
   "cell_type": "code",
   "execution_count": 251,
   "metadata": {},
   "outputs": [
    {
     "data": {
      "text/plain": [
       "(1820, 1)"
      ]
     },
     "execution_count": 251,
     "metadata": {},
     "output_type": "execute_result"
    }
   ],
   "source": [
    "df.shape"
   ]
  },
  {
   "cell_type": "code",
   "execution_count": 252,
   "metadata": {},
   "outputs": [],
   "source": [
    "def clean_tweets(tweets):\n",
    "  tweets = re.sub('@[A-Za-z0–9]+', '', tweets) # remove tag(@)\n",
    "  tweets = re.sub('#[A-Za-z0–9]+', '', tweets) # remove hashtags(#)\n",
    "  tweets = re.sub('RT[\\s]+', '', tweets) # remove RT\n",
    "  tweets = re.sub('https?:\\/\\/\\S+', '', tweets) # remove URL links\n",
    "  tweets = re.sub('\\[(.*?)\\]', '', tweets)\n",
    "  return tweets"
   ]
  },
  {
   "cell_type": "code",
   "execution_count": 253,
   "metadata": {},
   "outputs": [],
   "source": [
    "df.Tweets = df.Tweets.apply(clean_tweets)"
   ]
  },
  {
   "cell_type": "code",
   "execution_count": 254,
   "metadata": {},
   "outputs": [],
   "source": [
    "df.to_csv(\"clean_data.csv\")"
   ]
  }
 ],
 "metadata": {
  "kernelspec": {
   "display_name": "Python 3.10.1 64-bit",
   "language": "python",
   "name": "python3"
  },
  "language_info": {
   "codemirror_mode": {
    "name": "ipython",
    "version": 3
   },
   "file_extension": ".py",
   "mimetype": "text/x-python",
   "name": "python",
   "nbconvert_exporter": "python",
   "pygments_lexer": "ipython3",
   "version": "3.10.1"
  },
  "orig_nbformat": 4,
  "vscode": {
   "interpreter": {
    "hash": "7a0138d27dc15ee4cb695af8dd977fbb152b4b260c442a2ca2d6adae8ed2f5ee"
   }
  }
 },
 "nbformat": 4,
 "nbformat_minor": 2
}

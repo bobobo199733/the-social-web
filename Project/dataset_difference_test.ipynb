{
 "cells": [
  {
   "attachments": {},
   "cell_type": "markdown",
   "metadata": {},
   "source": [
    "# This notebook is only to validate the cleaning_data.ipynb results. As may say, an extra confirmation."
   ]
  },
  {
   "cell_type": "code",
   "execution_count": 11,
   "metadata": {},
   "outputs": [],
   "source": [
    "import re\n",
    "import nltk\n",
    "import tweepy\n",
    "import numpy as np\n",
    "import pandas as pd\n",
    "from textblob import TextBlob\n",
    "import matplotlib.pyplot as plt\n",
    "from wordcloud import WordCloud\n",
    "import json\n",
    "import seaborn as sb"
   ]
  },
  {
   "attachments": {},
   "cell_type": "markdown",
   "metadata": {},
   "source": [
    "# For Donald Trump's case"
   ]
  },
  {
   "cell_type": "code",
   "execution_count": 12,
   "metadata": {},
   "outputs": [
    {
     "name": "stdout",
     "output_type": "stream",
     "text": [
      "Size dataset A: 434\n",
      "Size dataset B: 500\n",
      "Size shared data: 5\n"
     ]
    },
    {
     "data": {
      "text/plain": [
       "[\"@StormyBotK @POTUS @realDonaldTrump Lady your nuts get every us politician out and start from scratch they all creepy Epstein Pedophiles.. Every Christian on earth isn't saying it's the end of the world because these people are all good.. Their Satanic..\",\n",
       " 'RT @An1WorldGovt: @AnnecresswellC @MurderedHornet @BarackObama @MichelleObama @ObamaFoundation @davidaxelrod @jaredkushner @IvankaTrump @St…',\n",
       " 'RT @gerryflood8: @realDonaldTrump Imagine if this clip between 2 Republicans was about a Democrat, it would start every hour, every commerc…',\n",
       " \"As for @realDonaldTrump, he can start by showing some goddamn humanity and human decency for once in this century. By making statements from the campaign trail promoting world peace and an end to the war in Europe. If we can't all agree to that as Americans what can we agree on?\",\n",
       " \"@PoughYolonda @Jim_Jordan @realDonaldTrump I'm pretty sure Gym and Trump will end up looking really bad when they actually start investigating.\"]"
      ]
     },
     "execution_count": 12,
     "metadata": {},
     "output_type": "execute_result"
    }
   ],
   "source": [
    "DATASET_A = \"Raw/data_before_Elon_Musk_DonaldTrump.json\"\n",
    "DATASET_B = \"Raw/data_after_Elon_Musk_DonaldTrump.json\"\n",
    "\n",
    "def load_dataset(filename):\n",
    "    file = open(filename)\n",
    "    data = json.load(file)\n",
    "    file.close()\n",
    "    return data\n",
    "\n",
    "data_a = load_dataset(DATASET_A)\n",
    "data_b = load_dataset(DATASET_B)\n",
    "\n",
    "shared_items = []\n",
    "for item in data_a:\n",
    "    if item in data_b:\n",
    "        shared_items.append(item)\n",
    "\n",
    "print(f\"Size dataset A: {len(data_a)}\")\n",
    "print(f\"Size dataset B: {len(data_b)}\")\n",
    "print(f\"Size shared data: {len(shared_items)}\")\n",
    "\n",
    "shared_items"
   ]
  },
  {
   "attachments": {},
   "cell_type": "markdown",
   "metadata": {},
   "source": [
    "# For Elon Musk case"
   ]
  },
  {
   "cell_type": "code",
   "execution_count": 13,
   "metadata": {},
   "outputs": [
    {
     "name": "stdout",
     "output_type": "stream",
     "text": [
      "Size dataset A: 1426\n",
      "Size dataset B: 6842\n",
      "Size shared data: 12\n"
     ]
    },
    {
     "data": {
      "text/plain": [
       "['RT @BTC_Archive: #Bitcoin 2-week MACD just crossed-over\\n👉 BULLISH🚀\\n\\nThis signalled the end of the bear-market last cycle, and then start of…',\n",
       " \"@MattWallace888 Elon Musk is your buddi isn't he. Awww.\\n\\nI am your Buddi \\nuntil the end\\nMore then a Buddi, \\nI'm your best friend\\nWhen you feel lonely \\nand you start to cry,\\nI am always by your side...\",\n",
       " 'George Lucas stole the idea of cloud city from some kid on Zoom 1972 episode.  It also foreshadows the child mind of Elon Musk and his \"double earth\"  fantasy.  #ClimateChange It\\'s all in there. Kids get it.   \\nhttps://t.co/JjsCFwEJbv',\n",
       " '@elonmusk Dear Mr elon musk , im an MBA student at university of Dar es salaam  (UDSM) Tanzania forgive me for using this platform for personal reasons but due to desperation i have to, im in my last year of study , im due to start my dissertation and my classes will end on march 3rd',\n",
       " 'Beginning of the end Steve Bannon is going to be in New York today or yesterday it’s just the start they are all going to start indicting Elon musk is siding with a bunch of criminals and he’s gonna watch them go to jail and then get he’s gonna watch himself lose all his money https://t.co/E3rw4e6pFq',\n",
       " 'RT @TeslaOracle_com: Elon Musk hints at the first #Starship orbital flight is expected around the end of Feb or the start of March 2023!\\nht…',\n",
       " 'Elon Musk hints at the first #Starship orbital flight is expected around the end of Feb or the start of March 2023!\\nhttps://t.co/4t2BjLcv7z',\n",
       " '@ekapobkul @elonmusk Excellent perspective.  My Tesla investment thesis is the tech necessary to colonize Mars will end up developed in an Elon Musk company. Massive disruption in new markets likely.  Just the start. The Cybertruck looks like a Mars Rover.',\n",
       " 'Who could have guessed, that Elon Musk would end up buying TWITTER, start releasing TWITTER FILES, that showed all the scandals and proved all the lies and corruption that were going on for years and years?!?!?\\n\\nThe FBI stole our WIN and handed to BIDEN!\\n\\nJust... GOD HAS HIS WAY!',\n",
       " '@benshapiro “It’s the start of a relationship which I’m sure will soon end in marriage\" - #Bolsonaro on Musk.\\n\\nhttps://t.co/GVYyaQocdX',\n",
       " 'I want to sit with Elon Musk, Joe Rogan, and Snoop Dogg speaking on the start of a new religion for all people embracing raw truth, true love, and the amazing powers of A.I. at our finger tips.+ end robbery by conservative ways as our planet takes off into the future together🤫 https://t.co/OIBBonIEnq',\n",
       " 'RT @CFC__Forever: Reactionary lots!!! Your tweets are not getting to the other side….it will start and end on Elon Musk’s app']"
      ]
     },
     "execution_count": 13,
     "metadata": {},
     "output_type": "execute_result"
    }
   ],
   "source": [
    "DATASET_A = \"Raw/data_before_Elon_Musk.json\"\n",
    "DATASET_B = \"Raw/data_after_Elon_Musk.json\"\n",
    "\n",
    "def load_dataset(filename):\n",
    "    file = open(filename)\n",
    "    data = json.load(file)\n",
    "    file.close()\n",
    "    return data\n",
    "\n",
    "data_a = load_dataset(DATASET_A)\n",
    "data_b = load_dataset(DATASET_B)\n",
    "\n",
    "shared_items = []\n",
    "for item in data_a:\n",
    "    if item in data_b:\n",
    "        shared_items.append(item)\n",
    "\n",
    "print(f\"Size dataset A: {len(data_a)}\")\n",
    "print(f\"Size dataset B: {len(data_b)}\")\n",
    "print(f\"Size shared data: {len(shared_items)}\")\n",
    "\n",
    "shared_items"
   ]
  }
 ],
 "metadata": {
  "kernelspec": {
   "display_name": "base",
   "language": "python",
   "name": "python3"
  },
  "language_info": {
   "codemirror_mode": {
    "name": "ipython",
    "version": 3
   },
   "file_extension": ".py",
   "mimetype": "text/x-python",
   "name": "python",
   "nbconvert_exporter": "python",
   "pygments_lexer": "ipython3",
   "version": "3.9.7 (default, Sep 16 2021, 16:59:28) [MSC v.1916 64 bit (AMD64)]"
  },
  "orig_nbformat": 4,
  "vscode": {
   "interpreter": {
    "hash": "c4f92193806e2908606a5f23edd55a5282f2f433b73b1c504507f9256ed9f0b4"
   }
  }
 },
 "nbformat": 4,
 "nbformat_minor": 2
}

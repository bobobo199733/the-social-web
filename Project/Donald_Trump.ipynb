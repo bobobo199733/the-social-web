{
 "cells": [
  {
   "attachments": {},
   "cell_type": "markdown",
   "metadata": {},
   "source": [
    "# In this notebook we will condunct a sentiment analysis on Donald Trump related tweets. \n",
    "In order to be able to achieve that we already applied for an Academic Research License on Twitter and after many attemps we succeded in obtaining one."
   ]
  },
  {
   "attachments": {},
   "cell_type": "markdown",
   "metadata": {},
   "source": [
    "# 1. Required libraries\n",
    "\n",
    "In the list below, the python libraries that are needed in order to conduct Donald Trump's tweets sentiment analysis are presented and their use is explained.\n",
    "\n",
    "1. Re →  for cleaning the tweets\n",
    "2. NLTK →  for removing stop words\n",
    "3. Numpy →  for processing images\n",
    "4. Pandas →  for handling extracted data\n",
    "5. Textblob →  for sentiment analysis\n",
    "6. Wordcloud →  for plotting word cloud\n",
    "7. Tweepy →  for Twitter API authorization and extracting tweets from it\n",
    "8. Matplotlib →  for visualization."
   ]
  },
  {
   "cell_type": "code",
   "execution_count": 1,
   "metadata": {},
   "outputs": [],
   "source": [
    "import re\n",
    "import nltk\n",
    "import tweepy\n",
    "import numpy as np\n",
    "import pandas as pd\n",
    "from textblob import TextBlob\n",
    "import matplotlib.pyplot as plt\n",
    "from wordcloud import WordCloud\n",
    "import json\n",
    "import seaborn as sb\n"
   ]
  },
  {
   "attachments": {},
   "cell_type": "markdown",
   "metadata": {},
   "source": [
    "# 2. Load the already gathered data\n",
    "\n",
    "The data is obtained in a two-step process:\n",
    "1. Running the data_scrape.py python script, the tweets are gathered and saved under the \"Raw\" folder as .json files\n",
    "2. The tweets are cleared using cleaning_data.ipynb Jupyter Notebook which eliminates the components from a tweet that are not relevant to the sentiment Analysis such as: hashtags, mentions, external links. Afterwards, the two data sets are saved under \"Clean\" folder from this repository as .csv files.\n",
    "\n",
    "Why the data is not gathered by connecting directly to Twitter API in this notebook and why the data sets are loaded from \"Clean\" folder?\n",
    "1. Twitter API might crash at that particular moment when this notebook will be runned again.\n",
    "2. In order to protect the Twitter API token and secret from malicious intent, because after all, this repository is public.\n",
    "3. Because of the performance, the overall runtime of this notebook is drastically improved by 5 to 10 minutes. \n",
    "\n",
    "If it is wished to reproduce the process of the two obtained datasets, the process is the following:\n",
    "1. Run data_scape.ipynb Jupyter Notebook -> It connects to the Twitter API and exports the optained data to folder \"Raw\" as .json files\n",
    "2. Run cleaning_data.ipynb Jupyter Notebook -> It gathers from the \"Raw\" folder the datasets which are as .json files and cleans them, e.g. without hashtags, exporting them under the folder \"Clean\" as .csv files which will be used in the notebooks responsible for the sentiment analysis. "
   ]
  },
  {
   "cell_type": "code",
   "execution_count": 2,
   "metadata": {},
   "outputs": [],
   "source": [
    "# Creating the dataframes\n",
    "df_before = pd.read_csv(\"Clean/clean_before_Elon_Musk_DonaldTrump.csv\")\n",
    "df_after = pd.read_csv(\"Clean/clean_after_Elon_Musk_DonaldTrump.csv\")"
   ]
  },
  {
   "attachments": {},
   "cell_type": "markdown",
   "metadata": {},
   "source": [
    "# 3. Calculating the subjectivity and polarity of tweets. \n",
    "\n",
    "1. What is Subjectivity and how you measure it?\n",
    "\n",
    "The subjectivity is nothing but a sentence that expresses some personal feelings, views, or beliefs. Its values range from 0 to 1 where 0 is very objective and 1 is very subjective.\n",
    "\n",
    "2. What is Polarity and how you measure it?\n",
    "\n",
    "Polarity means emotions expressed in a sentence. Its value ranges from -1 to 1, where -1 represents the most negative comment and 1 represent the most positive comment."
   ]
  },
  {
   "attachments": {},
   "cell_type": "markdown",
   "metadata": {},
   "source": [
    "# 3.1. Subjectivity and Polarity of Donald Trump related tweets before Elon Musk alongside with a test list of only five tweets from the whole data set:"
   ]
  },
  {
   "cell_type": "code",
   "execution_count": 3,
   "metadata": {},
   "outputs": [
    {
     "data": {
      "text/html": [
       "<div>\n",
       "<style scoped>\n",
       "    .dataframe tbody tr th:only-of-type {\n",
       "        vertical-align: middle;\n",
       "    }\n",
       "\n",
       "    .dataframe tbody tr th {\n",
       "        vertical-align: top;\n",
       "    }\n",
       "\n",
       "    .dataframe thead th {\n",
       "        text-align: right;\n",
       "    }\n",
       "</style>\n",
       "<table border=\"1\" class=\"dataframe\">\n",
       "  <thead>\n",
       "    <tr style=\"text-align: right;\">\n",
       "      <th></th>\n",
       "      <th>Unnamed: 0</th>\n",
       "      <th>Tweets</th>\n",
       "      <th>Subjectivity</th>\n",
       "      <th>Polarity</th>\n",
       "    </tr>\n",
       "  </thead>\n",
       "  <tbody>\n",
       "    <tr>\n",
       "      <th>0</th>\n",
       "      <td>0</td>\n",
       "      <td>alexbruesewitz realDonaldTrump How to tell som...</td>\n",
       "      <td>0.500000</td>\n",
       "      <td>-0.266667</td>\n",
       "    </tr>\n",
       "    <tr>\n",
       "      <th>1</th>\n",
       "      <td>1</td>\n",
       "      <td>j9orange13: NameRedacted247 realDonaldTrump If...</td>\n",
       "      <td>0.500000</td>\n",
       "      <td>0.500000</td>\n",
       "    </tr>\n",
       "    <tr>\n",
       "      <th>2</th>\n",
       "      <td>2</td>\n",
       "      <td>elonmusk Great reporting and helping save demo...</td>\n",
       "      <td>0.750000</td>\n",
       "      <td>0.800000</td>\n",
       "    </tr>\n",
       "    <tr>\n",
       "      <th>3</th>\n",
       "      <td>3</td>\n",
       "      <td>45thMakaveli alexbruesewitz EWErickson realDon...</td>\n",
       "      <td>0.000000</td>\n",
       "      <td>0.000000</td>\n",
       "    </tr>\n",
       "    <tr>\n",
       "      <th>4</th>\n",
       "      <td>4</td>\n",
       "      <td>SJGoodman86: elonmusk Don't forget this bro:  ...</td>\n",
       "      <td>0.000000</td>\n",
       "      <td>0.000000</td>\n",
       "    </tr>\n",
       "    <tr>\n",
       "      <th>...</th>\n",
       "      <td>...</td>\n",
       "      <td>...</td>\n",
       "      <td>...</td>\n",
       "      <td>...</td>\n",
       "    </tr>\n",
       "    <tr>\n",
       "      <th>95</th>\n",
       "      <td>95</td>\n",
       "      <td>TomFitton elonmusk Twitter realDonaldTrump He ...</td>\n",
       "      <td>0.022222</td>\n",
       "      <td>0.000000</td>\n",
       "    </tr>\n",
       "    <tr>\n",
       "      <th>96</th>\n",
       "      <td>96</td>\n",
       "      <td>elonmusk TomFitton realDonaldTrump Twitter Wha...</td>\n",
       "      <td>0.000000</td>\n",
       "      <td>0.000000</td>\n",
       "    </tr>\n",
       "    <tr>\n",
       "      <th>97</th>\n",
       "      <td>97</td>\n",
       "      <td>brandenthelord ClauenFag PDavis94027422 Vanill...</td>\n",
       "      <td>0.433333</td>\n",
       "      <td>-0.166667</td>\n",
       "    </tr>\n",
       "    <tr>\n",
       "      <th>98</th>\n",
       "      <td>98</td>\n",
       "      <td>AdamTesh3 alexbruesewitz realDonaldTrump Natio...</td>\n",
       "      <td>0.200000</td>\n",
       "      <td>0.200000</td>\n",
       "    </tr>\n",
       "    <tr>\n",
       "      <th>99</th>\n",
       "      <td>99</td>\n",
       "      <td>TomFitton elonmusk Twitter realDonaldTrump Tru...</td>\n",
       "      <td>0.700000</td>\n",
       "      <td>0.200000</td>\n",
       "    </tr>\n",
       "  </tbody>\n",
       "</table>\n",
       "<p>100 rows × 4 columns</p>\n",
       "</div>"
      ],
      "text/plain": [
       "    Unnamed: 0                                             Tweets  \\\n",
       "0            0  alexbruesewitz realDonaldTrump How to tell som...   \n",
       "1            1  j9orange13: NameRedacted247 realDonaldTrump If...   \n",
       "2            2  elonmusk Great reporting and helping save demo...   \n",
       "3            3  45thMakaveli alexbruesewitz EWErickson realDon...   \n",
       "4            4  SJGoodman86: elonmusk Don't forget this bro:  ...   \n",
       "..         ...                                                ...   \n",
       "95          95  TomFitton elonmusk Twitter realDonaldTrump He ...   \n",
       "96          96  elonmusk TomFitton realDonaldTrump Twitter Wha...   \n",
       "97          97  brandenthelord ClauenFag PDavis94027422 Vanill...   \n",
       "98          98  AdamTesh3 alexbruesewitz realDonaldTrump Natio...   \n",
       "99          99  TomFitton elonmusk Twitter realDonaldTrump Tru...   \n",
       "\n",
       "    Subjectivity  Polarity  \n",
       "0       0.500000 -0.266667  \n",
       "1       0.500000  0.500000  \n",
       "2       0.750000  0.800000  \n",
       "3       0.000000  0.000000  \n",
       "4       0.000000  0.000000  \n",
       "..           ...       ...  \n",
       "95      0.022222  0.000000  \n",
       "96      0.000000  0.000000  \n",
       "97      0.433333 -0.166667  \n",
       "98      0.200000  0.200000  \n",
       "99      0.700000  0.200000  \n",
       "\n",
       "[100 rows x 4 columns]"
      ]
     },
     "execution_count": 3,
     "metadata": {},
     "output_type": "execute_result"
    }
   ],
   "source": [
    "# Subjectivity before Elon Musk\n",
    "def subj(tweet):\n",
    "    return TextBlob(tweet).sentiment.subjectivity\n",
    " \n",
    "# Polarity before Elon Musk\n",
    "def pol(tweet):\n",
    "    return TextBlob(tweet).sentiment.polarity\n",
    " \n",
    "df_before['Subjectivity'] = df_before.Tweets.apply(subj)\n",
    "df_before['Polarity'] = df_before.Tweets.apply(pol)\n",
    "\n",
    "df_before.head(100)"
   ]
  },
  {
   "attachments": {},
   "cell_type": "markdown",
   "metadata": {},
   "source": [
    "# 3.2. Subjectivity and Polarity of Donald Trump related tweets after Elon Musk alongside with a test list of only five tweets from the whole data set"
   ]
  },
  {
   "cell_type": "code",
   "execution_count": 4,
   "metadata": {},
   "outputs": [
    {
     "data": {
      "text/html": [
       "<div>\n",
       "<style scoped>\n",
       "    .dataframe tbody tr th:only-of-type {\n",
       "        vertical-align: middle;\n",
       "    }\n",
       "\n",
       "    .dataframe tbody tr th {\n",
       "        vertical-align: top;\n",
       "    }\n",
       "\n",
       "    .dataframe thead th {\n",
       "        text-align: right;\n",
       "    }\n",
       "</style>\n",
       "<table border=\"1\" class=\"dataframe\">\n",
       "  <thead>\n",
       "    <tr style=\"text-align: right;\">\n",
       "      <th></th>\n",
       "      <th>Unnamed: 0</th>\n",
       "      <th>Tweets</th>\n",
       "      <th>Subjectivity</th>\n",
       "      <th>Polarity</th>\n",
       "    </tr>\n",
       "  </thead>\n",
       "  <tbody>\n",
       "    <tr>\n",
       "      <th>0</th>\n",
       "      <td>0</td>\n",
       "      <td>Let's repeat this: GOPLeader Kevin McCarthy wi...</td>\n",
       "      <td>0.000000</td>\n",
       "      <td>0.000000</td>\n",
       "    </tr>\n",
       "    <tr>\n",
       "      <th>1</th>\n",
       "      <td>1</td>\n",
       "      <td>zovipica FreddyBernal KaremDeBernal Silfredo_S...</td>\n",
       "      <td>0.000000</td>\n",
       "      <td>0.000000</td>\n",
       "    </tr>\n",
       "    <tr>\n",
       "      <th>2</th>\n",
       "      <td>2</td>\n",
       "      <td>Let’s swap the swamp for the J6POLITICALPRISON...</td>\n",
       "      <td>0.700000</td>\n",
       "      <td>-0.500000</td>\n",
       "    </tr>\n",
       "    <tr>\n",
       "      <th>3</th>\n",
       "      <td>3</td>\n",
       "      <td>Smady_in_Vegas FoxNews realDonaldTrump The dif...</td>\n",
       "      <td>0.000000</td>\n",
       "      <td>0.000000</td>\n",
       "    </tr>\n",
       "    <tr>\n",
       "      <th>4</th>\n",
       "      <td>4</td>\n",
       "      <td>Twitter Files reveal ⁦realDonaldTrump⁩ ban cam...</td>\n",
       "      <td>0.000000</td>\n",
       "      <td>0.000000</td>\n",
       "    </tr>\n",
       "    <tr>\n",
       "      <th>...</th>\n",
       "      <td>...</td>\n",
       "      <td>...</td>\n",
       "      <td>...</td>\n",
       "      <td>...</td>\n",
       "    </tr>\n",
       "    <tr>\n",
       "      <th>95</th>\n",
       "      <td>95</td>\n",
       "      <td>TheRickWilson It’s proof the Democrats stole t...</td>\n",
       "      <td>0.000000</td>\n",
       "      <td>0.000000</td>\n",
       "    </tr>\n",
       "    <tr>\n",
       "      <th>96</th>\n",
       "      <td>96</td>\n",
       "      <td>DelDel8484 mtaibbi ShellenbergerMD bariweiss J...</td>\n",
       "      <td>0.444444</td>\n",
       "      <td>-0.277778</td>\n",
       "    </tr>\n",
       "    <tr>\n",
       "      <th>97</th>\n",
       "      <td>97</td>\n",
       "      <td>AshokShrivasta6 EmmanuelMacron RishiSunak real...</td>\n",
       "      <td>0.571429</td>\n",
       "      <td>0.357143</td>\n",
       "    </tr>\n",
       "    <tr>\n",
       "      <th>98</th>\n",
       "      <td>98</td>\n",
       "      <td>votedegrammont: elonmusk TomFitton realDonaldT...</td>\n",
       "      <td>0.000000</td>\n",
       "      <td>0.000000</td>\n",
       "    </tr>\n",
       "    <tr>\n",
       "      <th>99</th>\n",
       "      <td>99</td>\n",
       "      <td>TomFitton elonmusk Twitter realDonaldTrump Ele...</td>\n",
       "      <td>0.300000</td>\n",
       "      <td>0.600000</td>\n",
       "    </tr>\n",
       "  </tbody>\n",
       "</table>\n",
       "<p>100 rows × 4 columns</p>\n",
       "</div>"
      ],
      "text/plain": [
       "    Unnamed: 0                                             Tweets  \\\n",
       "0            0  Let's repeat this: GOPLeader Kevin McCarthy wi...   \n",
       "1            1  zovipica FreddyBernal KaremDeBernal Silfredo_S...   \n",
       "2            2  Let’s swap the swamp for the J6POLITICALPRISON...   \n",
       "3            3  Smady_in_Vegas FoxNews realDonaldTrump The dif...   \n",
       "4            4  Twitter Files reveal ⁦realDonaldTrump⁩ ban cam...   \n",
       "..         ...                                                ...   \n",
       "95          95  TheRickWilson It’s proof the Democrats stole t...   \n",
       "96          96  DelDel8484 mtaibbi ShellenbergerMD bariweiss J...   \n",
       "97          97  AshokShrivasta6 EmmanuelMacron RishiSunak real...   \n",
       "98          98  votedegrammont: elonmusk TomFitton realDonaldT...   \n",
       "99          99  TomFitton elonmusk Twitter realDonaldTrump Ele...   \n",
       "\n",
       "    Subjectivity  Polarity  \n",
       "0       0.000000  0.000000  \n",
       "1       0.000000  0.000000  \n",
       "2       0.700000 -0.500000  \n",
       "3       0.000000  0.000000  \n",
       "4       0.000000  0.000000  \n",
       "..           ...       ...  \n",
       "95      0.000000  0.000000  \n",
       "96      0.444444 -0.277778  \n",
       "97      0.571429  0.357143  \n",
       "98      0.000000  0.000000  \n",
       "99      0.300000  0.600000  \n",
       "\n",
       "[100 rows x 4 columns]"
      ]
     },
     "execution_count": 4,
     "metadata": {},
     "output_type": "execute_result"
    }
   ],
   "source": [
    "# Subjectivity after Elon Musk\n",
    "def subj(tweet):\n",
    "    return TextBlob(tweet).sentiment.subjectivity\n",
    " \n",
    "# Polarity after Elon Musk\n",
    "def pol(tweet):\n",
    "    return TextBlob(tweet).sentiment.polarity\n",
    " \n",
    "df_after['Subjectivity'] = df_after.Tweets.apply(subj)\n",
    "df_after['Polarity'] = df_after.Tweets.apply(pol)\n",
    "\n",
    "df_after.head(100)"
   ]
  },
  {
   "attachments": {},
   "cell_type": "markdown",
   "metadata": {},
   "source": [
    "# 4. Classifying the obtained Donald Trump related tweets from the two dataframes: before and after Elon Musk.\n",
    "\n",
    "The Donald Trump related tweets are classified into three different sentiment classes which are: Positive, Negative, Neutral."
   ]
  },
  {
   "attachments": {},
   "cell_type": "markdown",
   "metadata": {},
   "source": [
    "# 4.1. Clasification of Donald Trump related tweets alongside with a mock-up test list of only five tweets from the dataset, before Elon Musk."
   ]
  },
  {
   "cell_type": "code",
   "execution_count": 5,
   "metadata": {},
   "outputs": [
    {
     "data": {
      "text/html": [
       "<div>\n",
       "<style scoped>\n",
       "    .dataframe tbody tr th:only-of-type {\n",
       "        vertical-align: middle;\n",
       "    }\n",
       "\n",
       "    .dataframe tbody tr th {\n",
       "        vertical-align: top;\n",
       "    }\n",
       "\n",
       "    .dataframe thead th {\n",
       "        text-align: right;\n",
       "    }\n",
       "</style>\n",
       "<table border=\"1\" class=\"dataframe\">\n",
       "  <thead>\n",
       "    <tr style=\"text-align: right;\">\n",
       "      <th></th>\n",
       "      <th>Unnamed: 0</th>\n",
       "      <th>Tweets</th>\n",
       "      <th>Subjectivity</th>\n",
       "      <th>Polarity</th>\n",
       "      <th>Sentiment</th>\n",
       "    </tr>\n",
       "  </thead>\n",
       "  <tbody>\n",
       "    <tr>\n",
       "      <th>0</th>\n",
       "      <td>0</td>\n",
       "      <td>alexbruesewitz realDonaldTrump How to tell som...</td>\n",
       "      <td>0.500000</td>\n",
       "      <td>-0.266667</td>\n",
       "      <td>Negative</td>\n",
       "    </tr>\n",
       "    <tr>\n",
       "      <th>1</th>\n",
       "      <td>1</td>\n",
       "      <td>j9orange13: NameRedacted247 realDonaldTrump If...</td>\n",
       "      <td>0.500000</td>\n",
       "      <td>0.500000</td>\n",
       "      <td>Positive</td>\n",
       "    </tr>\n",
       "    <tr>\n",
       "      <th>2</th>\n",
       "      <td>2</td>\n",
       "      <td>elonmusk Great reporting and helping save demo...</td>\n",
       "      <td>0.750000</td>\n",
       "      <td>0.800000</td>\n",
       "      <td>Positive</td>\n",
       "    </tr>\n",
       "    <tr>\n",
       "      <th>3</th>\n",
       "      <td>3</td>\n",
       "      <td>45thMakaveli alexbruesewitz EWErickson realDon...</td>\n",
       "      <td>0.000000</td>\n",
       "      <td>0.000000</td>\n",
       "      <td>Neutral</td>\n",
       "    </tr>\n",
       "    <tr>\n",
       "      <th>4</th>\n",
       "      <td>4</td>\n",
       "      <td>SJGoodman86: elonmusk Don't forget this bro:  ...</td>\n",
       "      <td>0.000000</td>\n",
       "      <td>0.000000</td>\n",
       "      <td>Neutral</td>\n",
       "    </tr>\n",
       "    <tr>\n",
       "      <th>...</th>\n",
       "      <td>...</td>\n",
       "      <td>...</td>\n",
       "      <td>...</td>\n",
       "      <td>...</td>\n",
       "      <td>...</td>\n",
       "    </tr>\n",
       "    <tr>\n",
       "      <th>95</th>\n",
       "      <td>95</td>\n",
       "      <td>TomFitton elonmusk Twitter realDonaldTrump He ...</td>\n",
       "      <td>0.022222</td>\n",
       "      <td>0.000000</td>\n",
       "      <td>Neutral</td>\n",
       "    </tr>\n",
       "    <tr>\n",
       "      <th>96</th>\n",
       "      <td>96</td>\n",
       "      <td>elonmusk TomFitton realDonaldTrump Twitter Wha...</td>\n",
       "      <td>0.000000</td>\n",
       "      <td>0.000000</td>\n",
       "      <td>Neutral</td>\n",
       "    </tr>\n",
       "    <tr>\n",
       "      <th>97</th>\n",
       "      <td>97</td>\n",
       "      <td>brandenthelord ClauenFag PDavis94027422 Vanill...</td>\n",
       "      <td>0.433333</td>\n",
       "      <td>-0.166667</td>\n",
       "      <td>Negative</td>\n",
       "    </tr>\n",
       "    <tr>\n",
       "      <th>98</th>\n",
       "      <td>98</td>\n",
       "      <td>AdamTesh3 alexbruesewitz realDonaldTrump Natio...</td>\n",
       "      <td>0.200000</td>\n",
       "      <td>0.200000</td>\n",
       "      <td>Positive</td>\n",
       "    </tr>\n",
       "    <tr>\n",
       "      <th>99</th>\n",
       "      <td>99</td>\n",
       "      <td>TomFitton elonmusk Twitter realDonaldTrump Tru...</td>\n",
       "      <td>0.700000</td>\n",
       "      <td>0.200000</td>\n",
       "      <td>Positive</td>\n",
       "    </tr>\n",
       "  </tbody>\n",
       "</table>\n",
       "<p>100 rows × 5 columns</p>\n",
       "</div>"
      ],
      "text/plain": [
       "    Unnamed: 0                                             Tweets  \\\n",
       "0            0  alexbruesewitz realDonaldTrump How to tell som...   \n",
       "1            1  j9orange13: NameRedacted247 realDonaldTrump If...   \n",
       "2            2  elonmusk Great reporting and helping save demo...   \n",
       "3            3  45thMakaveli alexbruesewitz EWErickson realDon...   \n",
       "4            4  SJGoodman86: elonmusk Don't forget this bro:  ...   \n",
       "..         ...                                                ...   \n",
       "95          95  TomFitton elonmusk Twitter realDonaldTrump He ...   \n",
       "96          96  elonmusk TomFitton realDonaldTrump Twitter Wha...   \n",
       "97          97  brandenthelord ClauenFag PDavis94027422 Vanill...   \n",
       "98          98  AdamTesh3 alexbruesewitz realDonaldTrump Natio...   \n",
       "99          99  TomFitton elonmusk Twitter realDonaldTrump Tru...   \n",
       "\n",
       "    Subjectivity  Polarity Sentiment  \n",
       "0       0.500000 -0.266667  Negative  \n",
       "1       0.500000  0.500000  Positive  \n",
       "2       0.750000  0.800000  Positive  \n",
       "3       0.000000  0.000000   Neutral  \n",
       "4       0.000000  0.000000   Neutral  \n",
       "..           ...       ...       ...  \n",
       "95      0.022222  0.000000   Neutral  \n",
       "96      0.000000  0.000000   Neutral  \n",
       "97      0.433333 -0.166667  Negative  \n",
       "98      0.200000  0.200000  Positive  \n",
       "99      0.700000  0.200000  Positive  \n",
       "\n",
       "[100 rows x 5 columns]"
      ]
     },
     "execution_count": 5,
     "metadata": {},
     "output_type": "execute_result"
    }
   ],
   "source": [
    "# Sentiment (polarity)\n",
    "def sentiment(polarity):\n",
    "    result = ''\n",
    "    if polarity < 0:\n",
    "        result = 'Negative'\n",
    "    elif polarity > 0:\n",
    "        result = 'Positive'\n",
    "    else:\n",
    "        result = 'Neutral'\n",
    "    return result\n",
    " \n",
    "df_before['Sentiment'] = df_before.Polarity.apply(sentiment)\n",
    "df_before.head(100)"
   ]
  },
  {
   "attachments": {},
   "cell_type": "markdown",
   "metadata": {},
   "source": [
    "# 4.2. Clasification of Donald Trump related tweets alongside with a mock-up test list of only five tweets from the dataset, after Elon Musk."
   ]
  },
  {
   "cell_type": "code",
   "execution_count": 6,
   "metadata": {},
   "outputs": [
    {
     "data": {
      "text/html": [
       "<div>\n",
       "<style scoped>\n",
       "    .dataframe tbody tr th:only-of-type {\n",
       "        vertical-align: middle;\n",
       "    }\n",
       "\n",
       "    .dataframe tbody tr th {\n",
       "        vertical-align: top;\n",
       "    }\n",
       "\n",
       "    .dataframe thead th {\n",
       "        text-align: right;\n",
       "    }\n",
       "</style>\n",
       "<table border=\"1\" class=\"dataframe\">\n",
       "  <thead>\n",
       "    <tr style=\"text-align: right;\">\n",
       "      <th></th>\n",
       "      <th>Unnamed: 0</th>\n",
       "      <th>Tweets</th>\n",
       "      <th>Subjectivity</th>\n",
       "      <th>Polarity</th>\n",
       "      <th>Sentiment</th>\n",
       "    </tr>\n",
       "  </thead>\n",
       "  <tbody>\n",
       "    <tr>\n",
       "      <th>0</th>\n",
       "      <td>0</td>\n",
       "      <td>Let's repeat this: GOPLeader Kevin McCarthy wi...</td>\n",
       "      <td>0.000000</td>\n",
       "      <td>0.000000</td>\n",
       "      <td>Neutral</td>\n",
       "    </tr>\n",
       "    <tr>\n",
       "      <th>1</th>\n",
       "      <td>1</td>\n",
       "      <td>zovipica FreddyBernal KaremDeBernal Silfredo_S...</td>\n",
       "      <td>0.000000</td>\n",
       "      <td>0.000000</td>\n",
       "      <td>Neutral</td>\n",
       "    </tr>\n",
       "    <tr>\n",
       "      <th>2</th>\n",
       "      <td>2</td>\n",
       "      <td>Let’s swap the swamp for the J6POLITICALPRISON...</td>\n",
       "      <td>0.700000</td>\n",
       "      <td>-0.500000</td>\n",
       "      <td>Negative</td>\n",
       "    </tr>\n",
       "    <tr>\n",
       "      <th>3</th>\n",
       "      <td>3</td>\n",
       "      <td>Smady_in_Vegas FoxNews realDonaldTrump The dif...</td>\n",
       "      <td>0.000000</td>\n",
       "      <td>0.000000</td>\n",
       "      <td>Neutral</td>\n",
       "    </tr>\n",
       "    <tr>\n",
       "      <th>4</th>\n",
       "      <td>4</td>\n",
       "      <td>Twitter Files reveal ⁦realDonaldTrump⁩ ban cam...</td>\n",
       "      <td>0.000000</td>\n",
       "      <td>0.000000</td>\n",
       "      <td>Neutral</td>\n",
       "    </tr>\n",
       "    <tr>\n",
       "      <th>...</th>\n",
       "      <td>...</td>\n",
       "      <td>...</td>\n",
       "      <td>...</td>\n",
       "      <td>...</td>\n",
       "      <td>...</td>\n",
       "    </tr>\n",
       "    <tr>\n",
       "      <th>95</th>\n",
       "      <td>95</td>\n",
       "      <td>TheRickWilson It’s proof the Democrats stole t...</td>\n",
       "      <td>0.000000</td>\n",
       "      <td>0.000000</td>\n",
       "      <td>Neutral</td>\n",
       "    </tr>\n",
       "    <tr>\n",
       "      <th>96</th>\n",
       "      <td>96</td>\n",
       "      <td>DelDel8484 mtaibbi ShellenbergerMD bariweiss J...</td>\n",
       "      <td>0.444444</td>\n",
       "      <td>-0.277778</td>\n",
       "      <td>Negative</td>\n",
       "    </tr>\n",
       "    <tr>\n",
       "      <th>97</th>\n",
       "      <td>97</td>\n",
       "      <td>AshokShrivasta6 EmmanuelMacron RishiSunak real...</td>\n",
       "      <td>0.571429</td>\n",
       "      <td>0.357143</td>\n",
       "      <td>Positive</td>\n",
       "    </tr>\n",
       "    <tr>\n",
       "      <th>98</th>\n",
       "      <td>98</td>\n",
       "      <td>votedegrammont: elonmusk TomFitton realDonaldT...</td>\n",
       "      <td>0.000000</td>\n",
       "      <td>0.000000</td>\n",
       "      <td>Neutral</td>\n",
       "    </tr>\n",
       "    <tr>\n",
       "      <th>99</th>\n",
       "      <td>99</td>\n",
       "      <td>TomFitton elonmusk Twitter realDonaldTrump Ele...</td>\n",
       "      <td>0.300000</td>\n",
       "      <td>0.600000</td>\n",
       "      <td>Positive</td>\n",
       "    </tr>\n",
       "  </tbody>\n",
       "</table>\n",
       "<p>100 rows × 5 columns</p>\n",
       "</div>"
      ],
      "text/plain": [
       "    Unnamed: 0                                             Tweets  \\\n",
       "0            0  Let's repeat this: GOPLeader Kevin McCarthy wi...   \n",
       "1            1  zovipica FreddyBernal KaremDeBernal Silfredo_S...   \n",
       "2            2  Let’s swap the swamp for the J6POLITICALPRISON...   \n",
       "3            3  Smady_in_Vegas FoxNews realDonaldTrump The dif...   \n",
       "4            4  Twitter Files reveal ⁦realDonaldTrump⁩ ban cam...   \n",
       "..         ...                                                ...   \n",
       "95          95  TheRickWilson It’s proof the Democrats stole t...   \n",
       "96          96  DelDel8484 mtaibbi ShellenbergerMD bariweiss J...   \n",
       "97          97  AshokShrivasta6 EmmanuelMacron RishiSunak real...   \n",
       "98          98  votedegrammont: elonmusk TomFitton realDonaldT...   \n",
       "99          99  TomFitton elonmusk Twitter realDonaldTrump Ele...   \n",
       "\n",
       "    Subjectivity  Polarity Sentiment  \n",
       "0       0.000000  0.000000   Neutral  \n",
       "1       0.000000  0.000000   Neutral  \n",
       "2       0.700000 -0.500000  Negative  \n",
       "3       0.000000  0.000000   Neutral  \n",
       "4       0.000000  0.000000   Neutral  \n",
       "..           ...       ...       ...  \n",
       "95      0.000000  0.000000   Neutral  \n",
       "96      0.444444 -0.277778  Negative  \n",
       "97      0.571429  0.357143  Positive  \n",
       "98      0.000000  0.000000   Neutral  \n",
       "99      0.300000  0.600000  Positive  \n",
       "\n",
       "[100 rows x 5 columns]"
      ]
     },
     "execution_count": 6,
     "metadata": {},
     "output_type": "execute_result"
    }
   ],
   "source": [
    "# Sentiment (polarity)\n",
    "def sentiment(polarity):\n",
    "    result = ''\n",
    "    if polarity < 0:\n",
    "        result = 'Negative'\n",
    "    elif polarity > 0:\n",
    "        result = 'Positive'\n",
    "    else:\n",
    "        result = 'Neutral'\n",
    "    return result\n",
    " \n",
    "df_after['Sentiment'] = df_after.Polarity.apply(sentiment)\n",
    "df_after.head(100)"
   ]
  },
  {
   "attachments": {},
   "cell_type": "markdown",
   "metadata": {},
   "source": [
    "# 5. Representing through different types of plots the ratio of the sentiment"
   ]
  },
  {
   "attachments": {},
   "cell_type": "markdown",
   "metadata": {},
   "source": [
    "# 5.1. Direct comparison of the ratio of the sentiment between before and after Elon Musk of Donald Trump related tweets using bar plots.\n",
    "\n",
    "1. The first bar plot represents the sentiment clasification of Donald Trump related tweets before Elon Musk became the CEO of Twitter.\n",
    "2. The second bar plot represents the sentiment clasification of Donald Trump related tweets before Elon Musk became the CEO of Twitter."
   ]
  },
  {
   "cell_type": "code",
   "execution_count": 7,
   "metadata": {},
   "outputs": [
    {
     "data": {
      "image/png": "[encoded data removed]",
      "text/plain": [
       "<Figure size 576x432 with 1 Axes>"
      ]
     },
     "metadata": {
      "needs_background": "light"
     },
     "output_type": "display_data"
    },
    {
     "data": {
      "image/png": "[encoded data removed]",
      "text/plain": [
       "<Figure size 576x432 with 1 Axes>"
      ]
     },
     "metadata": {
      "needs_background": "light"
     },
     "output_type": "display_data"
    }
   ],
   "source": [
    "#The ratio of the sentiment before Elon Musk\n",
    "f1 = plt.figure(figsize = (8,6))\n",
    "sb.histplot(df_before.sort_values(by=['Sentiment']), x = 'Sentiment', color = '#417D7A', shrink = 0.9).set(xlabel = None)\n",
    "plt.title('Sentiment Classification(Ratio) of Donald Trump before Elon Musk')\n",
    "plt.ylim(0, 60)\n",
    "plt.tight_layout()\n",
    "\n",
    "\n",
    "#The ratio of the sentiment after Elon Musk\n",
    "f2 = plt.figure(figsize = (8,6))\n",
    "sb.histplot(df_after.sort_values(by=['Sentiment']), x = 'Sentiment', color = '#1B403B', shrink = 0.9).set(xlabel = None)\n",
    "plt.title('Sentiment Classification(Ratio) of Donald Trump after Elon Musk')\n",
    "plt.ylim(0, 60)\n",
    "plt.tight_layout()\n",
    "\n",
    "f1.savefig(\"Images/Trump/BeforeTrumpBar.pdf\", bbox_inches='tight')\n",
    "f2.savefig(\"Images/Trump/AfterTrumpBar.pdf\", bbox_inches='tight')"
   ]
  },
  {
   "attachments": {},
   "cell_type": "markdown",
   "metadata": {},
   "source": [
    "# 5.2. Subjectivity vs Polarity\n",
    "\n",
    "In this chapter, the comparison will be represented through scatter plots of both acts: before and after Elon Musk.\n",
    "\n",
    "\n",
    "First of all, the comparison will be done individually: one plot for \"before Elon Musk\" and one plot for \"after Elon Musk\".\n",
    "\n",
    "Second, the comparison will be done directly in the same scatter plot between the two states: \"before\" and \"after\" of Donald Trump related tweets."
   ]
  },
  {
   "attachments": {},
   "cell_type": "markdown",
   "metadata": {},
   "source": [
    "# 5.2.1. Subjectivity vs Polarity represented in a scatter plot before Elon Musk."
   ]
  },
  {
   "cell_type": "code",
   "execution_count": 8,
   "metadata": {},
   "outputs": [
    {
     "data": {
      "image/png": "[encoded data removed]",
      "text/plain": [
       "<Figure size 576x360 with 1 Axes>"
      ]
     },
     "metadata": {},
     "output_type": "display_data"
    }
   ],
   "source": [
    "#Subjectivity vs Polarity in a scatter plot before Elon Musk\n",
    "sb.set_style('darkgrid')\n",
    "s1 = plt.figure(figsize = (8,5))\n",
    "markers = {'Positive':'o', 'Neutral':'s','Negative':'X'}\n",
    "sb.scatterplot(data=df_before, x='Polarity', y='Subjectivity', hue = 'Sentiment', style = 'Sentiment', markers = markers, palette = 'gist_earth').set(xlim=(-1,1))\n",
    "plt.title('Scatter Plot Subjectivity and Polarity of Donald Trump before Elon Musk')\n",
    "plt.xlabel('Polarity')\n",
    "plt.ylabel('Subjectivity')\n",
    "plt.tight_layout()\n",
    "s1.savefig(\"Images/Trump/BeforeTrumpScatter.pdf\", bbox_inches='tight')"
   ]
  },
  {
   "attachments": {},
   "cell_type": "markdown",
   "metadata": {},
   "source": [
    "# 5.2.2. Subjectivity vs Polarity represented in a scatter plot after Elon Musk."
   ]
  },
  {
   "cell_type": "code",
   "execution_count": 9,
   "metadata": {},
   "outputs": [
    {
     "data": {
      "image/png": "[encoded data removed]",
      "text/plain": [
       "<Figure size 576x360 with 1 Axes>"
      ]
     },
     "metadata": {},
     "output_type": "display_data"
    }
   ],
   "source": [
    "#Subjectivity vs Polarity in a scatter plot after Elon Musk\n",
    "sb.set_style('darkgrid')\n",
    "s2 = plt.figure(figsize = (8,5))\n",
    "markers = {'Positive':'o', 'Neutral':'s','Negative':'X'}\n",
    "sb.scatterplot(data=df_after, x='Polarity', y='Subjectivity', hue = 'Sentiment', style = 'Sentiment', markers = markers, palette = 'gist_earth').set(xlim=(-1,1))\n",
    "plt.title('Scatter Plot Subjectivity and Polarity of Donald Trump after Elon Musk')\n",
    "plt.xlabel('Polarity')\n",
    "plt.ylabel('Subjectivity')\n",
    "plt.tight_layout()\n",
    "s2.savefig(\"Images/Trump/AfterTrumpScatter.pdf\", bbox_inches='tight')"
   ]
  },
  {
   "attachments": {},
   "cell_type": "markdown",
   "metadata": {},
   "source": [
    "# 5.2.3. Subjectivity vs Polarity represented in the same scatter plot between: before and after Elon Musk."
   ]
  },
  {
   "cell_type": "code",
   "execution_count": 10,
   "metadata": {},
   "outputs": [
    {
     "data": {
      "image/png": "[encoded data removed]",
      "text/plain": [
       "<Figure size 576x360 with 1 Axes>"
      ]
     },
     "metadata": {},
     "output_type": "display_data"
    }
   ],
   "source": [
    "#Subjectivity vs Polarity in a scatter plot before and after Elon Musk\n",
    "sb.set_style('darkgrid')\n",
    "s3 = plt.figure(figsize = (8,5))\n",
    "markers = {'Positive':'o', 'Neutral':'s','Negative':'X'}\n",
    "sb.scatterplot(data=df_before, x='Polarity', y='Subjectivity', hue = 'Sentiment', style = 'Sentiment', markers = markers, palette = 'cool').set(xlim=(-1,1))\n",
    "sb.scatterplot(data=df_after, x='Polarity', y='Subjectivity', hue = 'Sentiment', style = 'Sentiment', markers = markers, palette = 'autumn').set(xlim=(-1,1))\n",
    "plt.title('Scatter Plot Subjectivity and Polarity of Donald Trump before and after Elon Musk')\n",
    "plt.xlabel('Polarity')\n",
    "plt.ylabel('Subjectivity')\n",
    "plt.tight_layout()\n",
    "s3.savefig(\"Images/Trump/TrumpScatter.pdf\", bbox_inches='tight')"
   ]
  },
  {
   "attachments": {},
   "cell_type": "markdown",
   "metadata": {},
   "source": [
    "# 5.3 extremes of the Polarity and subjectivity\n",
    "In this subchapter we get the tweets with high polarity or subjectivity.\n",
    "So we can see where our extremes are."
   ]
  },
  {
   "cell_type": "code",
   "execution_count": 11,
   "metadata": {},
   "outputs": [],
   "source": [
    "def get_extremes(df: pd.DataFrame):\n",
    "    p_max = df.loc[df['Polarity'].idxmax()]\n",
    "    s_max = df.loc[df['Subjectivity'].idxmax()]\n",
    "    p_min = df.loc[df['Polarity'].idxmin()]\n",
    "    s_min = df.loc[df['Subjectivity'].idxmin()]\n",
    "\n",
    "    print(\"Polarity\")\n",
    "    print(f\"'{p_max['Tweets']}'\") \n",
    "    print(f\"score: {p_max['Polarity']}\")\n",
    "    print(f\"'{p_min['Tweets']}'\") \n",
    "    print(f\"score: {p_min['Polarity']}\")\n",
    "    print(\"\\nSubjectivity\")\n",
    "    print(f\"'{s_max['Tweets']}'\")\n",
    "    print(f\"score: {s_max['Subjectivity']}\")\n",
    "    print(f\"'{s_min['Tweets']}'\")\n",
    "    print(f\"score: {s_min['Subjectivity']}\")"
   ]
  },
  {
   "cell_type": "code",
   "execution_count": 12,
   "metadata": {},
   "outputs": [
    {
     "name": "stdout",
     "output_type": "stream",
     "text": [
      "Polarity\n",
      "'brandenthelord ClauenFag PDavis94027422 Vanilla96388488 bsheffie19 kevin_cracknell TomFitton elonmusk Twitter realDonaldTrump I know what the agendas are...and how it's all playing out...\n",
      "\n",
      "Despite your best attempts to throw me off the scent...\n",
      "\n",
      "It won't work 😉'\n",
      "score: 1.0\n",
      "'RobSchneider And how badly they wanted realDonaldTrump gone. They’re still afraid of his comeback today. TrumpWasRightAboutEverything'\n",
      "score: -0.6499999999999999\n",
      "\n",
      "Subjectivity\n",
      "'this is probably my favorite tweet '\n",
      "score: 1.0\n",
      "'45thMakaveli alexbruesewitz EWErickson realDonaldTrump DeptofDefense 45th, you see an obsession with trump -- we see an obsession with rule of law and accountability. ... potato, potahto...'\n",
      "score: 0.0\n"
     ]
    }
   ],
   "source": [
    "get_extremes(df_before)"
   ]
  },
  {
   "cell_type": "code",
   "execution_count": 13,
   "metadata": {},
   "outputs": [
    {
     "name": "stdout",
     "output_type": "stream",
     "text": [
      "Polarity\n",
      "'realDonaldTrump If you invest your money in crypto currency soo my suggestion is $BNX is the best for investing in your money 💰💸💰💰💰💸💰💰💰💰💰\n",
      "1BNX=1BNX  binary_ x BinaryX '\n",
      "score: 1.0\n",
      "'GeorgeTakei Democrats still going after realDonaldTrump is also beyond boring.'\n",
      "score: -1.0\n",
      "\n",
      "Subjectivity\n",
      "'ChadwikoTWW JustinD0326 elonmusk TomFitton Twitter realDonaldTrump It's only a description of competence if your goal is fascism.'\n",
      "score: 1.0\n",
      "'Let's repeat this: GOPLeader Kevin McCarthy wished that Twitter would strip realDonaldTrump, as well as laurenboebert of their accounts. '\n",
      "score: 0.0\n"
     ]
    }
   ],
   "source": [
    "get_extremes(df_after)"
   ]
  },
  {
   "cell_type": "code",
   "execution_count": 14,
   "metadata": {},
   "outputs": [
    {
     "name": "stdout",
     "output_type": "stream",
     "text": [
      "0\n",
      "0\n"
     ]
    }
   ],
   "source": [
    "print(df_before['Tweets'].str.count(\"@\").sum())\n",
    "print(df_after['Tweets'].str.count(\"@\").sum())"
   ]
  },
  {
   "attachments": {},
   "cell_type": "markdown",
   "metadata": {},
   "source": [
    "# 6. The percentage of each sentiment class.\n",
    "\n",
    "The percentage of each sentiment class for the both scenarios: \"before\" and \"after\" is presented indivually and as pie plots."
   ]
  },
  {
   "attachments": {},
   "cell_type": "markdown",
   "metadata": {},
   "source": [
    "# 6.1. The percentage of each sentiment class before Elon Musk.\n"
   ]
  },
  {
   "cell_type": "code",
   "execution_count": 15,
   "metadata": {},
   "outputs": [
    {
     "data": {
      "image/png": "[encoded data removed]",
      "text/plain": [
       "<Figure size 720x360 with 1 Axes>"
      ]
     },
     "metadata": {},
     "output_type": "display_data"
    }
   ],
   "source": [
    "# The percentage of each class: Negative, Positive, Neutral before Elon Musk\n",
    " \n",
    "df_sentiment_before = pd.DataFrame(df_before.Sentiment.value_counts(normalize=True)*100)\n",
    "df_sentiment_before['Total Before Elon Musk'] = df_before.Sentiment.value_counts()\n",
    "df_sentiment_before\n",
    "f1 = plt.figure(figsize = (10, 5))\n",
    "data = df_before['Sentiment'].value_counts()\n",
    "colors = sb.color_palette('gist_earth')\n",
    "labels = ['Positive', 'Neutral', 'Negative']\n",
    "plt.pie(data, labels = labels, autopct = '%.0f%%', colors = colors)\n",
    "plt.title('Percentage of each class: Negative, Positive, Neutral of Donald Trump before Elon Musk')\n",
    "plt.tight_layout()\n",
    "\n",
    "f1.savefig(\"Images/Trump/BeforeTrumpPie.pdf\", bbox_inches='tight')\n"
   ]
  },
  {
   "attachments": {},
   "cell_type": "markdown",
   "metadata": {},
   "source": [
    "# 6.2. The percentage of each sentiment class after Elon Musk.\n"
   ]
  },
  {
   "cell_type": "code",
   "execution_count": 16,
   "metadata": {},
   "outputs": [
    {
     "data": {
      "image/png": "[encoded data removed]",
      "text/plain": [
       "<Figure size 720x360 with 1 Axes>"
      ]
     },
     "metadata": {},
     "output_type": "display_data"
    }
   ],
   "source": [
    "# The percentage of each class: Negative, Positive, Neutral after Elon Musk\n",
    "\n",
    "df_sentiment_after = pd.DataFrame(df_after.Sentiment.value_counts(normalize=True)*100)\n",
    "df_sentiment_after['Total After Elon Musk'] = df_after.Sentiment.value_counts()\n",
    "df_sentiment_after\n",
    "f2 = plt.figure(figsize = (10, 5))\n",
    "data = df_after['Sentiment'].value_counts()\n",
    "colors = sb.color_palette('gist_earth')\n",
    "labels = ['Positive', 'Neutral', 'Negative']\n",
    "plt.pie(data, labels = labels, autopct = '%.0f%%', colors = colors)\n",
    "plt.title('Percentage of each class: Negative, Positive, Neutral of Donald Trump after Elon Musk')\n",
    "plt.tight_layout()\n",
    "\n",
    "f2.savefig(\"Images/Trump/AfterTrumpPie.pdf\", bbox_inches='tight')"
   ]
  }
 ],
 "metadata": {
  "kernelspec": {
   "display_name": "Python 3",
   "language": "python",
   "name": "python3"
  },
  "language_info": {
   "codemirror_mode": {
    "name": "ipython",
    "version": 3
   },
   "file_extension": ".py",
   "mimetype": "text/x-python",
   "name": "python",
   "nbconvert_exporter": "python",
   "pygments_lexer": "ipython3",
   "version": "3.10.1"
  },
  "orig_nbformat": 4,
  "vscode": {
   "interpreter": {
    "hash": "7a0138d27dc15ee4cb695af8dd977fbb152b4b260c442a2ca2d6adae8ed2f5ee"
   }
  }
 },
 "nbformat": 4,
 "nbformat_minor": 2
}

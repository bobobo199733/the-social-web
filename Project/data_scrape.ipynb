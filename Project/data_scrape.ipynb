{
 "cells": [
  {
   "attachments": {},
   "cell_type": "markdown",
   "metadata": {},
   "source": [
    "# This notebook is responsible for connecting to the Twitter API and through Tweepy to extract tweets related to Elon Musk and Donald Trump in both cases: before/after Elon Musk"
   ]
  },
  {
   "attachments": {},
   "cell_type": "markdown",
   "metadata": {},
   "source": [
    "# 1. Required Python libraries imports in order for this notebook to work."
   ]
  },
  {
   "cell_type": "code",
   "execution_count": 6,
   "metadata": {},
   "outputs": [],
   "source": [
    "import json\n",
    "import re\n",
    "import matplotlib.pyplot as plt\n",
    "import nltk\n",
    "import pandas as pd\n",
    "import tweepy\n",
    "from textblob import TextBlob\n",
    "from wordcloud import WordCloud"
   ]
  },
  {
   "attachments": {},
   "cell_type": "markdown",
   "metadata": {},
   "source": [
    "# 2. Twitter API required data in order to connect to it and being able to use it"
   ]
  },
  {
   "cell_type": "code",
   "execution_count": 7,
   "metadata": {},
   "outputs": [],
   "source": [
    "TWITTER_API_KEY = \"8r4bvIuCRsNzrbdPsCqaUoVv9\"\n",
    "TWITTER_API_SECRET = \"JptZjnN991736aSssz4F8RUaOPtTHEOejNyDGb064KAjPJ2GMU\"\n",
    "TWITTER_ACCESS_TOKEN = \"1297797286148399104-JTeBfDEIMD5xDmuzgtmiOcJMrurhFx\"\n",
    "TWITTER_ACCESS_SECRET = \"FmJFEJjFiJEMMRAHenXe1dCNpPD6lz02mKuZVMzBP9b7c\"\n"
   ]
  },
  {
   "attachments": {},
   "cell_type": "markdown",
   "metadata": {},
   "source": [
    "# 3. Authentication to Tweeter API + creating the API object that we will use afterwards to gather the tweets."
   ]
  },
  {
   "cell_type": "code",
   "execution_count": 8,
   "metadata": {},
   "outputs": [],
   "source": [
    "# Authentificate with Twitter\n",
    "auth = tweepy.OAuthHandler(TWITTER_API_KEY, TWITTER_API_SECRET)\n",
    "auth.set_access_token(TWITTER_ACCESS_TOKEN, TWITTER_ACCESS_SECRET)\n",
    "\n",
    "# Create the API object\n",
    "api = tweepy.API(auth, wait_on_rate_limit=True)"
   ]
  },
  {
   "attachments": {},
   "cell_type": "markdown",
   "metadata": {},
   "source": [
    "# 4. Gather the data"
   ]
  },
  {
   "attachments": {},
   "cell_type": "markdown",
   "metadata": {},
   "source": [
    "# 4.1 Gather tweets that are related to Donald Trump, before and after Elon Musk became the CEO of Twitter.\n",
    "\n",
    "The querry is build as follows:\n",
    "1. Having as reference the official Twitter API documentation: https://developer.twitter.com/en/docs/twitter-api\n",
    "2. The first part of the query is in fact what we are interesting in gathering through Twitter API which is all tweets related to Donald Trump\n",
    "3. The second part of the query, by using the argument \"--\" represents extra-option for that query when it will be interpreted by Tweepy. By using filters such as: \"--start-time\" and \"--end-time\" we are making sure that we gather the data before and after Elon Musks became the CEO of Twitter. The only constraint here is the fact that Donald Trump's twitter account got banned."
   ]
  },
  {
   "cell_type": "code",
   "execution_count": 9,
   "metadata": {},
   "outputs": [
    {
     "name": "stderr",
     "output_type": "stream",
     "text": [
      "Rate limit reached. Sleeping for: 814\n",
      "Rate limit reached. Sleeping for: 810\n"
     ]
    }
   ],
   "source": [
    "# Before Elon Musk\n",
    "filter1 = \"Donald Trump --end-time:2022-10-27)\"\n",
    "results1 = tweepy.Cursor(\n",
    "    api.search_tweets, q=filter1, lang=\"en\", tweet_mode=\"extended\"\n",
    ").items(10000)\n",
    "\n",
    "with open(\"Raw//data_before_Elon_Musk_DonaldTrump.json\", \"w\") as f:\n",
    "    json.dump([tweet.full_text for tweet in results1], f)\n",
    "\n",
    "# After Elon Musk -start-time 2022-10-27\n",
    "hashtag2 = \"Donald Trump --start-time:2022-10-27)\"\n",
    "results2 = tweepy.Cursor(\n",
    "    api.search_tweets, q=hashtag2, lang=\"en\", tweet_mode=\"extended\"\n",
    ").items(10000)\n",
    "\n",
    "with open(\"Raw//data_after_Elon_Musk_DonaldTrump.json\", \"w\") as f:\n",
    "    json.dump([tweet.full_text for tweet in results2], f)"
   ]
  },
  {
   "attachments": {},
   "cell_type": "markdown",
   "metadata": {},
   "source": [
    "# 4.2 Gather tweets that are related to Elon Musk, before and after Elon Musk became the CEO of Twitter.\n",
    "\n",
    "The querry is build as follows:\n",
    "1. Having as reference the official Twitter API documentation: https://developer.twitter.com/en/docs/twitter-api\n",
    "2. The first part of the query is in fact what we are interesting in gathering through Twitter API which is all tweets related to Elon Musk.\n",
    "3. The second part of the query, by using the argument \"--\" represents extra-option for that query when it will be interpreted by Tweepy. By using filters such as: \"--start-time\" and \"--end-time\" we are making sure that we gather the data before and after Elon Musks became the CEO of Twitter. "
   ]
  },
  {
   "cell_type": "code",
   "execution_count": 10,
   "metadata": {},
   "outputs": [
    {
     "name": "stderr",
     "output_type": "stream",
     "text": [
      "Rate limit reached. Sleeping for: 814\n",
      "Rate limit reached. Sleeping for: 817\n",
      "Rate limit reached. Sleeping for: 818\n",
      "Rate limit reached. Sleeping for: 814\n"
     ]
    }
   ],
   "source": [
    "# Before Elon Musk\n",
    "filter1 = \"Elon Musk --end-time:2022-10-27)\"\n",
    "results1 = tweepy.Cursor(\n",
    "    api.search_tweets, q=filter1, lang=\"en\", tweet_mode=\"extended\"\n",
    ").items(10000)\n",
    "\n",
    "with open(\"Raw//data_before_Elon_Musk.json\", \"w\") as f:\n",
    "    json.dump([tweet.full_text for tweet in results1], f)\n",
    "\n",
    "# After Elon Musk -start-time 2022-10-27\n",
    "hashtag2 = \"Elon Musk --start-time:2022-10-27)\"\n",
    "results2 = tweepy.Cursor(\n",
    "    api.search_tweets, q=hashtag2, lang=\"en\", tweet_mode=\"extended\"\n",
    ").items(10000)\n",
    "\n",
    "with open(\"Raw//data_after_Elon_Musk.json\", \"w\") as f:\n",
    "    json.dump([tweet.full_text for tweet in results2], f)"
   ]
  }
 ],
 "metadata": {
  "kernelspec": {
   "display_name": "Python 3",
   "language": "python",
   "name": "python3"
  },
  "language_info": {
   "codemirror_mode": {
    "name": "ipython",
    "version": 3
   },
   "file_extension": ".py",
   "mimetype": "text/x-python",
   "name": "python",
   "nbconvert_exporter": "python",
   "pygments_lexer": "ipython3",
   "version": "3.9.13"
  },
  "orig_nbformat": 4,
  "vscode": {
   "interpreter": {
    "hash": "52fef9f371462526e6c16fbedf2b5b9bc32d90752958a415cf9672d41d7c1c70"
   }
  }
 },
 "nbformat": 4,
 "nbformat_minor": 2
}

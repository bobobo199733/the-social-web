{
 "cells": [
  {
   "attachments": {},
   "cell_type": "markdown",
   "metadata": {},
   "source": [
    "# This notebook is responsible for connecting to the Twitter API and through Tweepy to extract tweets related to Elon Musk and Donald Trump in both cases: before/after Elon Musk"
   ]
  },
  {
   "attachments": {},
   "cell_type": "markdown",
   "metadata": {},
   "source": [
    "# 1. Required Python libraries imports in order for this notebook to work."
   ]
  },
  {
   "cell_type": "code",
   "execution_count": 1,
   "metadata": {},
   "outputs": [],
   "source": [
    "import json\n",
    "import re\n",
    "import matplotlib.pyplot as plt\n",
    "import nltk\n",
    "import pandas as pd\n",
    "import tweepy\n",
    "from textblob import TextBlob\n",
    "from wordcloud import WordCloud"
   ]
  },
  {
   "attachments": {},
   "cell_type": "markdown",
   "metadata": {},
   "source": [
    "# 2. Twitter API required data in order to connect to it and being able to use it"
   ]
  },
  {
   "attachments": {},
   "cell_type": "markdown",
   "metadata": {},
   "source": [
    "Being a public repository, the API Keys and Secrets were altered. If one of the TAs or the teacher wish to run this analysis for themselves, please email me through Canvas."
   ]
  },
  {
   "cell_type": "code",
   "execution_count": 2,
   "metadata": {},
   "outputs": [],
   "source": [
    "TWITTER_API_KEY = \"\"\n",
    "TWITTER_API_SECRET = \"\"\n",
    "TWITTER_ACCESS_TOKEN = \"\"\n",
    "TWITTER_ACCESS_SECRET = \"\"\n"
   ]
  },
  {
   "attachments": {},
   "cell_type": "markdown",
   "metadata": {},
   "source": [
    "# 3. Authentication to Tweeter API + creating the API object that we will use afterwards to gather the tweets."
   ]
  },
  {
   "cell_type": "code",
   "execution_count": 3,
   "metadata": {},
   "outputs": [],
   "source": [
    "# Authentificate with Twitter\n",
    "auth = tweepy.OAuthHandler(TWITTER_API_KEY, TWITTER_API_SECRET)\n",
    "auth.set_access_token(TWITTER_ACCESS_TOKEN, TWITTER_ACCESS_SECRET)\n",
    "\n",
    "# Create the API object\n",
    "api = tweepy.API(auth, wait_on_rate_limit=True)"
   ]
  },
  {
   "attachments": {},
   "cell_type": "markdown",
   "metadata": {},
   "source": [
    "# 4. Gather the data"
   ]
  },
  {
   "attachments": {},
   "cell_type": "markdown",
   "metadata": {},
   "source": [
    "Elon Musk became the CEO of Twitter on 27th Octomber of year 2022. This is important for us because we want to compare the impact before and after he became the CEO of Twitter. When this sentiment analysis was revised today's date is: 19th January of year 2023. This is how we considered to gather the tweets:\n",
    "1. The month difference between Octomber and January is of four months.\n",
    "2. For the before scenario of Elon, we took the tweets since 15th July 2022 until 27th Octomber 2022.\n",
    "3. For the after scenario of Elon,  we took the tweets since 27th Octomber 2022 until 15th January 2023."
   ]
  },
  {
   "attachments": {},
   "cell_type": "markdown",
   "metadata": {},
   "source": [
    "# 4.1 Gather tweets that are related to Donald Trump, before and after Elon Musk became the CEO of Twitter.\n",
    "\n",
    "The querry is build as follows:\n",
    "1. Having as reference the official Twitter API documentation: https://developer.twitter.com/en/docs/twitter-api and https://developer.twitter.com/en/docs/twitter-api/v1/tweets/search/api-reference/get-search-tweets\n",
    "2. The first part of the query is in fact what we are interesting in gathering through Twitter API which is the influence of Donald Trump on Twitter, this is done by specifing the name of the user.\n",
    "3. The second part of the query, by using the argument \"--start-time\" and \"--end-time\" we are making sure that we only gather the tweets within that time frame!\n",
    "\n",
    "# IMPORTANT \n",
    "Because we reached our limit of mined data through Twitter API. Limitation imposed by Academic Research License, we could not get user-specific tweets anymore, so instead, we have shifted the focus from user-specific to overall influence. Another limitation is that the number of the total tweets was reduced to only 3500... Not all 3500 tweets were actually mined."
   ]
  },
  {
   "cell_type": "code",
   "execution_count": 4,
   "metadata": {},
   "outputs": [
    {
     "name": "stderr",
     "output_type": "stream",
     "text": [
      "Rate limit reached. Sleeping for: 119\n"
     ]
    }
   ],
   "source": [
    "# Before Elon Musk\n",
    "#filter1 = \"Donald Trump --start-time:2021-01-01 --end-time:2022-10-27\"\n",
    "#results1 = tweepy.Cursor(\n",
    "#    api.search_tweets, q=filter1, lang=\"en\", tweet_mode=\"extended\"\n",
    "#).items(3500)\n",
    "\n",
    "#with open(\"Raw\\data_before_Elon_Musk_DonaldTrump.json\", \"w\") as f:\n",
    "#    json.dump([tweet.full_text for tweet in results1], f)\n",
    "\n",
    "# After Elon Musk \n",
    "#filter2 = \"Donald Trump --start-time:2022-10-28\"\n",
    "#results2 = tweepy.Cursor(\n",
    "#    api.search_tweets, q=filter2, lang=\"en\", tweet_mode=\"extended\"\n",
    "#).items(3500)\n",
    "\n",
    "#with open(\"Raw\\data_after_Elon_Musk_DonaldTrump.json\", \"w\") as f:\n",
    "#    json.dump([tweet.full_text for tweet in results2], f)"
   ]
  },
  {
   "attachments": {},
   "cell_type": "markdown",
   "metadata": {},
   "source": [
    "# 4.2 Gather tweets that are related to Elon Musk, before and after Elon Musk became the CEO of Twitter.\n",
    "\n",
    "The querry is build as follows:\n",
    "1. Having as reference the official Twitter API documentation: https://developer.twitter.com/en/docs/twitter-api\n",
    "2. The first part of the query is in fact what we are interesting in gathering through Twitter API which is the influence of Elon Musk, this is done by specifing the name of the user.\n",
    "3. The second part of the query, by using the argument \"--start-time\" and \"--end-time\" we are making sure that we only gather the tweets within that time frame!\n",
    "\n",
    "# IMPORTANT \n",
    "Because we reached our limit of mined data through Twitter API. Limitation imposed by Academic Research License, we could not get user-specific tweets anymore, so instead, we have shifted the focus from user-specific to overall influence. Another limitation is that the number of the total tweets was reduced to only 2000... Not all 2000 tweets were actually mined."
   ]
  },
  {
   "cell_type": "code",
   "execution_count": 5,
   "metadata": {},
   "outputs": [
    {
     "name": "stderr",
     "output_type": "stream",
     "text": [
      "Rate limit reached. Sleeping for: 826\n",
      "Rate limit reached. Sleeping for: 825\n"
     ]
    }
   ],
   "source": [
    "# Before Elon Musk\n",
    "#filter1 = \"Elon Musk  --start-time:2021-01-01 --end-time:2022-10-27\"\n",
    "#results1 = tweepy.Cursor(\n",
    "#    api.search_tweets, q=filter1, lang=\"en\", tweet_mode=\"extended\"\n",
    "#).items(2000)\n",
    "\n",
    "#with open(\"Raw\\data_before_Elon_Musk.json\", \"w\") as f:\n",
    "#    json.dump([tweet.full_text for tweet in results1], f)\n",
    "\n",
    "# After Elon Musk \n",
    "#filter2 = \"Elon Musk --start-time:2022-10-28\"\n",
    "#results2 = tweepy.Cursor(\n",
    "#    api.search_tweets, q=filter2, lang=\"en\", tweet_mode=\"extended\"\n",
    "#).items(2000)\n",
    "\n",
    "#with open(\"Raw\\data_after_Elon_Musk.json\", \"w\") as f:\n",
    "#    json.dump([tweet.full_text for tweet in results2], f)"
   ]
  }
 ],
 "metadata": {
  "kernelspec": {
   "display_name": "Python 3",
   "language": "python",
   "name": "python3"
  },
  "language_info": {
   "codemirror_mode": {
    "name": "ipython",
    "version": 3
   },
   "file_extension": ".py",
   "mimetype": "text/x-python",
   "name": "python",
   "nbconvert_exporter": "python",
   "pygments_lexer": "ipython3",
   "version": "3.9.13"
  },
  "orig_nbformat": 4,
  "vscode": {
   "interpreter": {
    "hash": "52fef9f371462526e6c16fbedf2b5b9bc32d90752958a415cf9672d41d7c1c70"
   }
  }
 },
 "nbformat": 4,
 "nbformat_minor": 2
}

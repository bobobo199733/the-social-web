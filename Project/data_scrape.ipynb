{
 "cells": [
  {
   "cell_type": "code",
   "execution_count": 5,
   "metadata": {},
   "outputs": [],
   "source": [
    "import json\n",
    "import re\n",
    "import matplotlib.pyplot as plt\n",
    "import nltk\n",
    "import pandas as pd\n",
    "import tweepy\n",
    "from textblob import TextBlob\n",
    "from wordcloud import WordCloud"
   ]
  },
  {
   "cell_type": "code",
   "execution_count": 6,
   "metadata": {},
   "outputs": [],
   "source": [
    "TWITTER_API_KEY = \"8r4bvIuCRsNzrbdPsCqaUoVv9\"\n",
    "TWITTER_API_SECRET = \"JptZjnN991736aSssz4F8RUaOPtTHEOejNyDGb064KAjPJ2GMU\"\n",
    "TWITTER_ACCESS_TOKEN = \"1297797286148399104-JTeBfDEIMD5xDmuzgtmiOcJMrurhFx\"\n",
    "TWITTER_ACCESS_SECRET = \"FmJFEJjFiJEMMRAHenXe1dCNpPD6lz02mKuZVMzBP9b7c\"\n"
   ]
  },
  {
   "cell_type": "code",
   "execution_count": 7,
   "metadata": {},
   "outputs": [],
   "source": [
    "# Authentificate with Twitter\n",
    "auth = tweepy.OAuthHandler(TWITTER_API_KEY, TWITTER_API_SECRET)\n",
    "auth.set_access_token(TWITTER_ACCESS_TOKEN, TWITTER_ACCESS_SECRET)\n",
    "\n",
    "# Create the API object\n",
    "api = tweepy.API(auth, wait_on_rate_limit=True)"
   ]
  },
  {
   "cell_type": "code",
   "execution_count": 8,
   "metadata": {},
   "outputs": [],
   "source": [
    "# Before Elon Musk\n",
    "filter1 = \"lang:en -is:post (from:@realDonaldTrump --end-time:2022-10-28:2022-10-27)\"\n",
    "results1 = tweepy.Cursor(\n",
    "    api.search_tweets, q=filter1, lang=\"en\", tweet_mode=\"extended\"\n",
    ").items(5000)\n",
    "\n",
    "with open(\"Raw//data_before_Elon_Musk_DonaldTrump.json\", \"w\") as f:\n",
    "    json.dump([tweet.full_text for tweet in results1], f)\n",
    "\n",
    "# After Elon Musk -start-time 2022-10-27\n",
    "hashtag2 = \"lang:en -is:post (from:@realDonaldTrump --start-time:2022-10-28)\"\n",
    "results2 = tweepy.Cursor(\n",
    "    api.search_tweets, q=hashtag2, lang=\"en\", tweet_mode=\"extended\"\n",
    ").items(5000)\n",
    "\n",
    "with open(\"Raw//data_after_Elon_Musk_DonaldTrump.json\", \"w\") as f:\n",
    "    json.dump([tweet.full_text for tweet in results2], f)"
   ]
  }
 ],
 "metadata": {
  "kernelspec": {
   "display_name": "Python 3",
   "language": "python",
   "name": "python3"
  },
  "language_info": {
   "codemirror_mode": {
    "name": "ipython",
    "version": 3
   },
   "file_extension": ".py",
   "mimetype": "text/x-python",
   "name": "python",
   "nbconvert_exporter": "python",
   "pygments_lexer": "ipython3",
   "version": "3.9.13"
  },
  "orig_nbformat": 4,
  "vscode": {
   "interpreter": {
    "hash": "52fef9f371462526e6c16fbedf2b5b9bc32d90752958a415cf9672d41d7c1c70"
   }
  }
 },
 "nbformat": 4,
 "nbformat_minor": 2
}

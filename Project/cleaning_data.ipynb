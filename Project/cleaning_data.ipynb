{
 "cells": [
  {
   "attachments": {},
   "cell_type": "markdown",
   "metadata": {},
   "source": [
    "Jupyter Notebook function to clean the duplicates between two datasets."
   ]
  },
  {
   "cell_type": "code",
   "execution_count": 1,
   "metadata": {},
   "outputs": [],
   "source": [
    "import re\n",
    "import nltk\n",
    "import tweepy\n",
    "import numpy as np\n",
    "import pandas as pd\n",
    "from textblob import TextBlob\n",
    "import matplotlib.pyplot as plt\n",
    "from wordcloud import WordCloud\n",
    "import json\n",
    "import seaborn as sb"
   ]
  },
  {
   "attachments": {},
   "cell_type": "markdown",
   "metadata": {},
   "source": [
    "This funtion should remove all none text like objects from a tweet"
   ]
  },
  {
   "cell_type": "code",
   "execution_count": 2,
   "metadata": {},
   "outputs": [],
   "source": [
    "def clean_tweets(tweets):\n",
    "  tweets = re.sub('@[A-Za-z0–9]+', '', tweets) # remove tag(@)\n",
    "  tweets = re.sub('#[A-Za-z0–9]+', '', tweets) # remove hashtags(#)\n",
    "  tweets = re.sub('RT[\\s]+', '', tweets) # remove RT\n",
    "  tweets = re.sub('https?:\\/\\/\\S+', '', tweets) # remove URL links\n",
    "  tweets = re.sub('\\[(.*?)\\]', '', tweets) #remove fonts and writing styles, e.g. [$lt...$gt]\n",
    "  return tweets"
   ]
  },
  {
   "attachments": {},
   "cell_type": "markdown",
   "metadata": {},
   "source": [
    "This function removes all shared tweets from the two input data sets"
   ]
  },
  {
   "cell_type": "code",
   "execution_count": 3,
   "metadata": {},
   "outputs": [],
   "source": [
    "def removing_shared(data_a, data_b):\n",
    "    clean_a, clean_b = [],[]\n",
    "    for a in data_a:\n",
    "        if a not in data_b:\n",
    "            clean_a.append(a)\n",
    "\n",
    "    for b in data_b:\n",
    "        if b not in data_a:\n",
    "            clean_b.append(b)\n",
    "\n",
    "    return pd.DataFrame(clean_a, columns=['Tweets']), pd.DataFrame(clean_b, columns=['Tweets'])  "
   ]
  },
  {
   "attachments": {},
   "cell_type": "markdown",
   "metadata": {},
   "source": [
    "Loads different datasets"
   ]
  },
  {
   "cell_type": "code",
   "execution_count": 4,
   "metadata": {},
   "outputs": [],
   "source": [
    "def load_dataset(filename):\n",
    "    file = open(filename)\n",
    "    data = json.load(file)\n",
    "    file.close()\n",
    "    return data"
   ]
  },
  {
   "attachments": {},
   "cell_type": "markdown",
   "metadata": {},
   "source": [
    "Applies all functions and saves the results\n",
    "[FILL] here is the target dataset"
   ]
  },
  {
   "cell_type": "code",
   "execution_count": 5,
   "metadata": {},
   "outputs": [],
   "source": [
    "DATASET_A = \"Raw\\data_before_[FILL].json\"\n",
    "DATASET_B = \"Raw\\data_after_[FILL].json\""
   ]
  },
  {
   "cell_type": "code",
   "execution_count": 6,
   "metadata": {},
   "outputs": [],
   "source": [
    "data_a = load_dataset(DATASET_A)\n",
    "data_b = load_dataset(DATASET_B)"
   ]
  },
  {
   "cell_type": "code",
   "execution_count": 7,
   "metadata": {},
   "outputs": [],
   "source": [
    "res_a, res_b = removing_shared(data_a, data_b)"
   ]
  },
  {
   "cell_type": "code",
   "execution_count": 8,
   "metadata": {},
   "outputs": [],
   "source": [
    "res_a.Tweets = res_a.Tweets.apply(clean_tweets)\n",
    "res_b.Tweets = res_b.Tweets.apply(clean_tweets)"
   ]
  },
  {
   "cell_type": "code",
   "execution_count": 9,
   "metadata": {},
   "outputs": [],
   "source": [
    "res_a.to_csv(\"Clean\\clean_[FILL].csv\")\n",
    "res_b.to_csv(\"Clean\\clean_[FILL].csv\")"
   ]
  }
 ],
 "metadata": {
  "kernelspec": {
   "display_name": "Python 3",
   "language": "python",
   "name": "python3"
  },
  "language_info": {
   "codemirror_mode": {
    "name": "ipython",
    "version": 3
   },
   "file_extension": ".py",
   "mimetype": "text/x-python",
   "name": "python",
   "nbconvert_exporter": "python",
   "pygments_lexer": "ipython3",
   "version": "3.9.4 (tags/v3.9.4:1f2e308, Apr  6 2021, 13:40:21) [MSC v.1928 64 bit (AMD64)]"
  },
  "orig_nbformat": 4,
  "vscode": {
   "interpreter": {
    "hash": "a2f16918a74cce704bce5c1333e800169b85d4de400d0aeaa9bc7982034f2bb8"
   }
  }
 },
 "nbformat": 4,
 "nbformat_minor": 2
}
